{
 "cells": [
  {
   "cell_type": "markdown",
   "metadata": {},
   "source": [
    "# Aula 17 - Herança Múltipla\n",
    "\n",
    "Este documento apresenta como Python trabalha com herança múltipla."
   ]
  },
  {
   "cell_type": "markdown",
   "metadata": {},
   "source": [
    "## Exemplo 1: Herança sem Ambiguidade\n",
    "\n",
    "O código a seguir apresenta uma classe que possui duas classes base. O código funciona como esperado, já que as classes base não possuem ambiguidade, isto é os seus métodos e atributos não possuem o mesmo nome."
   ]
  },
  {
   "cell_type": "code",
   "execution_count": 5,
   "metadata": {},
   "outputs": [
    {
     "name": "stdout",
     "output_type": "stream",
     "text": [
      "0\n",
      "1\n",
      "50\n",
      "Metodo super1\n",
      "Metodo super2\n",
      "Metodo sub\n"
     ]
    }
   ],
   "source": [
    "class Superclasse1:\n",
    "    def __init__(self, valor):\n",
    "        self.atrib_super1 = valor\n",
    "\n",
    "    def metodo_super1(self):\n",
    "        print('Metodo super1')\n",
    "\n",
    "class Superclasse2:\n",
    "    def __init__(self, valor):\n",
    "        self.atrib_super2 = valor\n",
    "\n",
    "    def metodo_super2(self):\n",
    "        print('Metodo super2')\n",
    "\n",
    "class Subclasse(Superclasse1, Superclasse2):\n",
    "    def __init__(self, valor):\n",
    "        Superclasse1.__init__(self, 0) # atribui 0 a atrib_super1\n",
    "        Superclasse2.__init__(self, 1) # atribui 1 a atrib_super2\n",
    "        self.atrib_sub = valor\n",
    "\n",
    "    def metodo_sub(self):\n",
    "        print('Metodo sub')\n",
    "\n",
    "if __name__ == \"__main__\":\n",
    "    obj = Subclasse(50)\n",
    "    print(obj.atrib_super1)\n",
    "    print(obj.atrib_super2)\n",
    "    print(obj.atrib_sub)\n",
    "    obj.metodo_super1()\n",
    "    obj.metodo_super2()\n",
    "    obj.metodo_sub()"
   ]
  },
  {
   "cell_type": "markdown",
   "metadata": {},
   "source": [
    "## Exemplo 2 : Herança com Atributos e Métodos com Mesmo Nome\n",
    "\n",
    "O código a seguir possui uma classe derivada que herda de duas classes base com métodos e atributos em comum. Observe quais dos atributos/métodos das classes base são herdados pela classe derivada. Tenha em mente que, em Python, a declaração de um atributo/método com o mesmo nome de um já existente substitui o anterior."
   ]
  },
  {
   "cell_type": "code",
   "execution_count": 8,
   "metadata": {},
   "outputs": [
    {
     "name": "stdout",
     "output_type": "stream",
     "text": [
      "Inicializador de super2\n",
      "Inicializador de super1\n",
      "0\n",
      "Metodo super de Superclasse2\n"
     ]
    }
   ],
   "source": [
    "class Superclasse1:\n",
    "    def __init__(self, valor):\n",
    "        print('Inicializador de super1')\n",
    "        self.atrib_super = valor\n",
    "\n",
    "    def metodo_super(self):\n",
    "        print('Metodo super de Superclasse1')\n",
    "\n",
    "class Superclasse2:\n",
    "    def __init__(self, valor):\n",
    "        print('Inicializador de super2')\n",
    "        self.atrib_super = valor\n",
    "\n",
    "    def metodo_super(self):\n",
    "        print('Metodo super de Superclasse2')\n",
    "\n",
    "class Subclasse(Superclasse2, Superclasse1):\n",
    "    def __init__(self, valor):\n",
    "        Superclasse2.__init__(self, 1) # atribui 1 a atrib_super de Super2\n",
    "        Superclasse1.__init__(self, 0) # atribui 0 a atrib_super de Super1\n",
    "        self.atrib_sub = valor\n",
    "\n",
    "    def metodo_sub(self):\n",
    "        print('Metodo sub')\n",
    "\n",
    "if __name__ == \"__main__\":\n",
    "    obj = Subclasse(50)\n",
    "    print(obj.atrib_super) # qual atrib_super e utilizado?\n",
    "    obj.metodo_super() # qual metodo_super e chamado?"
   ]
  },
  {
   "cell_type": "markdown",
   "metadata": {},
   "source": [
    "Note que  as classes ```Superclasse1``` e ```Superclasse2``` possuem\n",
    "um atributo e um método com o mesmo nome:\n",
    "\n",
    "- O método herdado pela ```Subclasse``` depende da ordem indicada\n",
    "  na tupla de classes base:\n",
    "    - A linguagem Python considera a primeira superclasse da esquerda para a direita\n",
    "    - A implementação do método que for achada primeiro é utilizada\n",
    "    - Caso uma implementação do método não seja achada em nenhuma das classes base, a busca é realizada recursivamente nas classes base das classes base\n",
    "    - **Para saber a ordem de busca das classes:** utilize o método de classe `mro` (*method resolution order*) presente em todas as classes Python\n",
    "- Em relação aos atributos:\n",
    "    - Como o `__init__` de cada superclasse foi chamado no \n",
    "      `__init__` da subclasse, o atributo considerado é o último\n",
    "      encontrado (e não o primeiro)\n",
    "    - Cada chamada de `__init__` sobrescreve a declaração\n",
    "      anterior\n",
    "    - Portanto, o que vale é o último"
   ]
  },
  {
   "cell_type": "markdown",
   "metadata": {},
   "source": [
    "### Possível problema com atributos com nomes comuns\n",
    "\n",
    "O código a seguir possui duas classes base que possuem um atributo com mesmo nome `x`. Observe o que pode acontecer neste caso."
   ]
  },
  {
   "cell_type": "code",
   "execution_count": 10,
   "metadata": {},
   "outputs": [
    {
     "name": "stdout",
     "output_type": "stream",
     "text": [
      "1\n"
     ]
    }
   ],
   "source": [
    "class A:\n",
    "    def __init__(self): \n",
    "        self.x = 0\n",
    "\n",
    "    def m1(self): \n",
    "        return self.x + 1\n",
    "\n",
    "class B:\n",
    "    def __init__(self): \n",
    "        self.x = []\n",
    "\n",
    "class C(A,B):\n",
    "    def __init__(self):\n",
    "        B.__init__(self)\n",
    "        A.__init__(self)\n",
    "      \n",
    "\n",
    "if __name__ == '__main__':\n",
    "    c = C()\n",
    "    print(c.m1()) # Funciona ? Qual é o problema?\n",
    "    #print(C.mro()) # Imprime a ordem das classes buscadas para métodos da classe C"
   ]
  },
  {
   "cell_type": "markdown",
   "metadata": {},
   "source": [
    "## Exemplo 3: O problema do Diamante \n",
    "\n",
    "Ao utilizar herança múltipla, problemas podem ocorrer com hierarquias em formato de diamante, como mostrado na figura a seguir.\n",
    "\n",
    "![Diamante](https://raw.githubusercontent.com/ect-info/POO_2021.1/master/docs/12-heranca-multipla/diamante.png)\n",
    "\n",
    "Especificamente, considere os casos listados a seguir.\n",
    "\n",
    "### 1. Todas as classes implementam `metodo`\n",
    "\n",
    "Qual versão de `metodo` será chamada para objetos da classe `D`?"
   ]
  },
  {
   "cell_type": "code",
   "execution_count": 11,
   "metadata": {},
   "outputs": [
    {
     "name": "stdout",
     "output_type": "stream",
     "text": [
      "Metodo de A\n",
      "Metodo de B\n",
      "Metodo de C\n",
      "Metodo de D\n"
     ]
    }
   ],
   "source": [
    "class A:\n",
    "    def metodo(self):\n",
    "        print('Metodo de A')\n",
    "\n",
    "class B(A):\n",
    "    def metodo(self):\n",
    "        print('Metodo de B')\n",
    "\n",
    "class C(A):\n",
    "    def metodo(self):\n",
    "        print('Metodo de C')\n",
    "\n",
    "class D(B,C):\n",
    "    def metodo(self):\n",
    "        print('Metodo de D')\n",
    "\n",
    "if __name__ == \"__main__\":\n",
    "    a = A()\n",
    "    b = B()\n",
    "    c = C()\n",
    "    d = D()\n",
    "\n",
    "    a.metodo()\n",
    "    b.metodo()\n",
    "    c.metodo()\n",
    "    d.metodo()"
   ]
  },
  {
   "cell_type": "markdown",
   "metadata": {},
   "source": [
    "### 2. `D` apenas herda `metodo` (`metodo` não é sobrescrito)\n",
    "   \n",
    "Qual versão de `metodo` será chamada para objetos da classe `D`?"
   ]
  },
  {
   "cell_type": "code",
   "execution_count": 12,
   "metadata": {},
   "outputs": [
    {
     "name": "stdout",
     "output_type": "stream",
     "text": [
      "Metodo de A\n",
      "Metodo de B\n",
      "Metodo de C\n",
      "Metodo de B\n"
     ]
    }
   ],
   "source": [
    "class A:\n",
    "    def metodo(self):\n",
    "        print('Metodo de A')\n",
    "\n",
    "class B(A):\n",
    "    def metodo(self):\n",
    "        print('Metodo de B')\n",
    "\n",
    "class C(A):\n",
    "    def metodo(self):\n",
    "        print('Metodo de C')\n",
    "\n",
    "class D(B,C):\n",
    "    pass\n",
    "\n",
    "if __name__ == \"__main__\":\n",
    "    a = A()\n",
    "    b = B()\n",
    "    c = C()\n",
    "    d = D()\n",
    "\n",
    "    a.metodo()\n",
    "    b.metodo()\n",
    "    c.metodo()\n",
    "    d.metodo()"
   ]
  },
  {
   "cell_type": "markdown",
   "metadata": {},
   "source": [
    "### 3. Tanto `D` quanto `B` apenas herda `metodo`\n",
    "\n",
    "Qual versão de `metodo` será chamada para objetos da classe `D`?"
   ]
  },
  {
   "cell_type": "code",
   "execution_count": 13,
   "metadata": {},
   "outputs": [
    {
     "name": "stdout",
     "output_type": "stream",
     "text": [
      "Metodo de A\n",
      "Metodo de A\n",
      "Metodo de C\n",
      "Metodo de C\n",
      "[<class '__main__.D'>, <class '__main__.B'>, <class '__main__.C'>, <class '__main__.A'>, <class 'object'>]\n"
     ]
    }
   ],
   "source": [
    "class A:\n",
    "    def metodo(self):\n",
    "        print('Metodo de A')\n",
    "\n",
    "class B(A):\n",
    "    pass\n",
    "\n",
    "class C(A):\n",
    "    def metodo(self):\n",
    "        print('Metodo de C')\n",
    "\n",
    "class D(B,C):\n",
    "    pass\n",
    "\n",
    "if __name__ == \"__main__\":\n",
    "    a = A()\n",
    "    b = B()\n",
    "    c = C()\n",
    "    d = D()\n",
    "\n",
    "    a.metodo()\n",
    "    b.metodo()\n",
    "    c.metodo()\n",
    "    d.metodo()\n",
    "    print(D.mro())"
   ]
  },
  {
   "cell_type": "markdown",
   "metadata": {},
   "source": [
    "Observe que, ao invés de `d.metodo()` realizar uma chamada a `metodo` da classe `A` (que é superclasse de `B`, que por sua vez não possui implementação de `metodo`), `d.metodo()` realiza uma chamada a `metodo` da classe `C`.\n",
    "Esta ordem pode ser confirmada ao ser impressa a *method resolution order* da classe `D`.\n",
    "\n",
    "A linguagem Python trabalha desta forma no que se chama de *herança múltipla cooperativa*. Assim, em hierarquias mais complexas, é garantido que a implementação de `metodo` \"mais próxima\" da classe original seja chamada, ao invés da implementação \"mais ancestral\".\n",
    "\n",
    "Para mais informações sobre herança múltipla cooperativa em Python, veja este [artigo](https://www.artima.com/weblogs/viewpost.jsp?thread=281127)."
   ]
  },
  {
   "cell_type": "markdown",
   "metadata": {},
   "source": [
    "### Chamando métodos comuns de uma hierarquia em uma determinada ordem\n",
    "\n",
    "Observe o código a seguir e perceba como o uso de `super` pode ser útil para implementar um encadeamento de chamada de métodos em uma determinada ordem."
   ]
  },
  {
   "cell_type": "code",
   "execution_count": 20,
   "metadata": {},
   "outputs": [
    {
     "name": "stdout",
     "output_type": "stream",
     "text": [
      "Metodo de A\n",
      "Metodo de C\n",
      "Metodo de B\n",
      "Metodo de D\n"
     ]
    }
   ],
   "source": [
    "class A:\n",
    "    def metodo(self):\n",
    "        print('Metodo de A')\n",
    "\n",
    "class B(A):\n",
    "    def metodo(self):\n",
    "        super().metodo() # irá chamar c.metodo()\n",
    "        print('Metodo de B')\n",
    "\n",
    "class C(A):\n",
    "    def metodo(self):\n",
    "        super().metodo() # irá chamar a.metodo()\n",
    "        print('Metodo de C')\n",
    "\n",
    "class D(B,C):\n",
    "    def metodo(self):\n",
    "        super().metodo() # irá chamar b.metodo() MRO => D, B, C, A, Object\n",
    "        print('Metodo de D')\n",
    "\n",
    "if __name__ == \"__main__\":\n",
    "    d = D()\n",
    "    d.metodo() # apenas uma chamada -> encadeia chamadas ao mesmo método de toda a hierarquia"
   ]
  },
  {
   "cell_type": "markdown",
   "metadata": {},
   "source": [
    "## Exercício de Fixação - Relógio Calendário\n",
    "\n",
    "Considere duas classes com funcionalidades e interfaces bem definidas:\n",
    "- `Relogio`: armazena horas, minutos e segundos e avança um segundo quando o método adequado é chamado\n",
    "- `Calendario`: armazena o dia, mês e ano atual e avança um dia quando o método adequado é chamado\n",
    "\n",
    "A partir destas duas classes, implemente uma nova classe `RelogioCalendario` utilizando herança múltipla."
   ]
  },
  {
   "cell_type": "code",
   "execution_count": 9,
   "metadata": {},
   "outputs": [
    {
     "name": "stdout",
     "output_type": "stream",
     "text": [
      "23:59:59\n",
      "00:00:00\n"
     ]
    }
   ],
   "source": [
    "class Relogio():\n",
    "\n",
    "    def __init__(self, horas, minutos, segundos):\n",
    "        self.set_hora(horas, minutos, segundos)\n",
    "\n",
    "    def set_hora(self, horas, minutos, segundos):\n",
    "        \"\"\"\n",
    "        Atributo horas deve ser um valor inteiro entre 0 e 23\n",
    "        Atributo minutos deve ser um valor inteiro entre 0 e 59\n",
    "        Atributo segundos deve ser um valor inteiro entre 0 e 59\n",
    "        \"\"\"        \n",
    "        if horas >= 0 or horas <=23:\n",
    "            self._horas = horas\n",
    "        if minutos >= 0 or minutos <= 59:\n",
    "            self.__minutos = minutos\n",
    "        if segundos >= 0 or segundos <= 59:\n",
    "            self.__segundos = segundos\n",
    "\n",
    "    def __str__(self):\n",
    "        return \"{0:02d}:{1:02d}:{2:02d}\".format(self._horas,\n",
    "                                                self.__minutos,\n",
    "                                                self.__segundos)\n",
    "\n",
    "    def marca_segundo(self):\n",
    "        \"\"\"\n",
    "        Avança um segundo no relógio.\n",
    "        \"\"\"\n",
    "        self.__segundos += 1\n",
    "        if self.__segundos == 60:\n",
    "            self.__segundos = 0\n",
    "            self.__minutos +=1\n",
    "        if self.__minutos == 60:\n",
    "            self.__minutos = 0\n",
    "            self._horas +=1\n",
    "        if self._horas > 23:\n",
    "            self._horas = 0\n",
    "        \n",
    "\n",
    "if __name__ == \"__main__\":\n",
    "    r = Relogio(23,59,59)\n",
    "    print(r)\n",
    "    r.marca_segundo()\n",
    "    print(r)"
   ]
  },
  {
   "cell_type": "markdown",
   "metadata": {},
   "source": [
    "Saída esperada para o código acima:\n",
    "```\n",
    "23:59:59\n",
    "00:00:00\n",
    "```"
   ]
  },
  {
   "cell_type": "code",
   "execution_count": 60,
   "metadata": {},
   "outputs": [
    {
     "name": "stdout",
     "output_type": "stream",
     "text": [
      "31/12/2012 - Ao avancar um dia vamos para a data:  01/01/2013\n",
      "2012 é ano Bissexo:\n",
      "28/02/2012 - Ao avancar um dia vamos para a data:  29/02/2012\n",
      "28/02/2013 - Ao avancar um dia vamos para a data:  02/03/2013\n",
      "1900 não é ano Bissexo. O número é divisivel por 100 mas não por 400: \n",
      "28/02/1900 - Ao avancar um dia vamos para a data:  29/02/1900\n",
      "2000 foi um é ano Bissexo. O número é divisivel por 400: \n",
      "28/02/2000 - Ao avancar um dia vamos para a data:  29/02/2000\n"
     ]
    }
   ],
   "source": [
    "class Calendario():\n",
    "\n",
    "    ultimo_dia_mes = (31,28,31,30,31,30,31,31,30,31,30,31)\n",
    "\n",
    "    @staticmethod\n",
    "    def ehBissexto(ano):\n",
    "        \"\"\" \n",
    "        O metodo retorna True se o parametro ano é ano bissexto, False caso contrario\n",
    "        \"\"\"\n",
    "        # para ser ano bissexto:\n",
    "        #     é ano % 4 == 0\n",
    "        # nao é ano % 100 == 0\n",
    "        # nao é ano % 400 == 0\n",
    "        if ano % 4 == 0:\n",
    "            return True\n",
    "        else: \n",
    "            return False\n",
    "\n",
    "\n",
    "    def __init__(self, dia, mes, ano):\n",
    "        self.set_data(dia, mes, ano)\n",
    "\n",
    "    def set_data(self, dia, mes, ano):\n",
    "        \"\"\"\n",
    "        dia, mes e ano devem ser numeros inteiros\n",
    "        \"\"\"\n",
    "        c1, c2, c3, c4, c5, c6, c7, c8, c9, c10, c11, c12 = Calendario.ultimo_dia_mes\n",
    "        self.__ano = ano\n",
    "        if mes >=1 and mes <= 12:\n",
    "            self.__mes = mes\n",
    "            if self.__mes == 1:\n",
    "                if dia >= 1 and dia <= c1:\n",
    "                    self.__dias = dia\n",
    "            if self.__mes == 2:\n",
    "                b = Calendario.ehBissexto(ano)\n",
    "                if b and (dia >=1 and dia<= 29):\n",
    "                    self.__dias = dia\n",
    "                elif dia >=1 and dia <= 28:\n",
    "                    self.__dias = dia\n",
    "            if self.__mes == 3:\n",
    "                if dia >= 1 and dia <= c3:\n",
    "                    self.__dia = dia\n",
    "            if self.__mes == 4:\n",
    "                if dia >= 1 and dia <= c4:\n",
    "                    self.__dia = dia\n",
    "            if self.__mes == 5:\n",
    "                if dia >= 1 and dia <= c5:\n",
    "                    self.__dia = dia\n",
    "            if self.__mes == 6:\n",
    "                if dia >= 1 and dia <= c6:\n",
    "                    self.__dia = dia\n",
    "            if self.__mes == 7:\n",
    "                if dia >= 1 and dia <= c7:\n",
    "                    self.__dia = dia\n",
    "            if self.__mes == 8:\n",
    "                if dia >= 1 and dia <= c8:\n",
    "                    self.__dia = dia\n",
    "            if self.__mes == 9:\n",
    "                if dia >= 1 and dia <= c9:\n",
    "                    self.__dia = dia\n",
    "            if self.__mes == 10:\n",
    "                if dia >= 1 and dia <= c10:\n",
    "                    self.__dia = dia\n",
    "            if self.__mes == 11:\n",
    "                if dia >= 1 and dia <= c11:\n",
    "                    self.__dia = dia\n",
    "            if self.__mes == 12:\n",
    "                if dia >= 1 and dia <= c12:\n",
    "                    self.__dias = dia\n",
    "                    \n",
    "                \n",
    "\n",
    "    def __str__(self):\n",
    "        return \"{0:02d}/{1:02d}/{2:4d}\".format(self.__dias,\n",
    "                                               self.__mes,\n",
    "                                               self.__ano)\n",
    "    \n",
    "    def avanca_dia(self):\n",
    "        \"\"\"\n",
    "        Avança um dia no calendário.\n",
    "        \"\"\"\n",
    "        #verifique qual o ultimo dia do mes\n",
    "        #verifique se mes de fevereiro é bissexto\n",
    "        #se o dia é o ultimo do mes atual, dia tem valor 1\n",
    "        #se o dia é o ultimo do ano, mes tem valor 1 e ano += 1\n",
    "        #para todos os outros casos apenas dia é incrementado\n",
    "        c1, c2, c3, c4, c5, c6, c7, c8, c9, c10, c11, c12 = Calendario.ultimo_dia_mes\n",
    "        b = Calendario.ehBissexto(self.__ano)\n",
    "        if self.__mes ==1:\n",
    "            u = c1\n",
    "            if self.__dias == u:\n",
    "                self.__dias = 1\n",
    "                self.__mes = 2\n",
    "            else:\n",
    "                self.__dias += 1\n",
    "        if self.__mes == 2:\n",
    "            u = c2\n",
    "            \n",
    "            if b and self.__dias == u and self.__dias < 30:\n",
    "                self.__dias += 1\n",
    "                self.__mes = 2\n",
    "            elif  b == False and self.__dias == u and self.__dias <29:\n",
    "                self.__dias = 1\n",
    "                self.__mes = 3\n",
    "            else: \n",
    "                self.__dias +=1\n",
    "        if self.__mes == 3:\n",
    "            u = c3\n",
    "            if self.__dias == u:\n",
    "                self.__dias = 1\n",
    "                self.__mes = 4\n",
    "            else:\n",
    "                self.__dias += 1\n",
    "        if self.__mes == 4:\n",
    "            u = c4\n",
    "            if self.__dias == u:\n",
    "                self.__dias = 1\n",
    "                self.__mes = 5\n",
    "            else:\n",
    "                self.__dias += 1\n",
    "        if self.__mes == 5:\n",
    "            u = c5\n",
    "            if self.__dias == u:\n",
    "                self.__dias = 1\n",
    "                self.__mes = 6\n",
    "            else:\n",
    "                self.__dias += 1\n",
    "        if self.__mes == 6:\n",
    "            u = c6\n",
    "            if self.__dias == u:\n",
    "                self.__dias = 1\n",
    "                self.__mes = 7\n",
    "            else:\n",
    "                self.__dias += 1\n",
    "        if self.__mes == 7:\n",
    "            u = c7\n",
    "            if self.__dias == u:\n",
    "                self.__dias = 1\n",
    "                self.__mes = 8\n",
    "            else:\n",
    "                self.__dias += 1\n",
    "        if self.__mes == 8:\n",
    "            u = c8\n",
    "            if self.__dias == u:\n",
    "                self.__dias = 1\n",
    "                self.__mes = 9\n",
    "            else:\n",
    "                self.__dias += 1\n",
    "        if self.__mes == 9:\n",
    "            u = c9\n",
    "            if self.__dias == u:\n",
    "                self.__dias = 1\n",
    "                self.__mes = 10\n",
    "            else:\n",
    "                self.__dias += 1\n",
    "        if self.__mes == 10:\n",
    "            u = c10\n",
    "            if self.__dias == u:\n",
    "                self.__dias = 1\n",
    "                self.__mes = 11\n",
    "            else:\n",
    "                self.__dias += 1\n",
    "        if self.__mes == 11:\n",
    "            u = c11\n",
    "            if self.__dias == u:\n",
    "                self.__dias = 1\n",
    "                self.__mes = 12\n",
    "            else:\n",
    "                self.__dias += 1\n",
    "                        \n",
    "        if self.__mes == 12:\n",
    "            u = c12\n",
    "            if self.__dias == u:\n",
    "                self.__dias = 1\n",
    "                self.__mes = 1\n",
    "                self.__ano += 1\n",
    "            else:\n",
    "                self.__dias += 1\n",
    "\n",
    "\n",
    "\n",
    "\n",
    "\n",
    "\n",
    "\n",
    "\n",
    "if __name__ == \"__main__\":\n",
    "    c = Calendario(31,12,2012)\n",
    "    print(c, end=\" \")\n",
    "    c.avanca_dia()\n",
    "    print(\"- Ao avancar um dia vamos para a data: \", c)\n",
    "    print(\"2012 é ano Bissexo:\")\n",
    "    c = Calendario(28,2,2012)\n",
    "    print(c, end=\" \")\n",
    "    c.avanca_dia()\n",
    "    print(\"- Ao avancar um dia vamos para a data: \", c)\n",
    "    c = Calendario(28,2,2013)\n",
    "    print(c, end=\" \")\n",
    "    c.avanca_dia()\n",
    "    print(\"- Ao avancar um dia vamos para a data: \", c)\n",
    "    print(\"1900 não é ano Bissexo. O número é divisivel por 100 mas não por 400: \")\n",
    "    c = Calendario(28,2,1900)\n",
    "    print(c, end=\" \")\n",
    "    c.avanca_dia()\n",
    "    print(\"- Ao avancar um dia vamos para a data: \", c)\n",
    "    print(\"2000 foi um é ano Bissexo. O número é divisivel por 400: \")\n",
    "    c = Calendario(28,2,2000)\n",
    "    print(c, end=\" \")\n",
    "    c.avanca_dia()\n",
    "    print(\"- Ao avancar um dia vamos para a data: \", c)"
   ]
  },
  {
   "cell_type": "markdown",
   "metadata": {},
   "source": [
    "Saída esperada para o código acima:\n",
    "```\n",
    "31/12/2012 - Ao avancar um dia vamos para a data:  01/01/2013\n",
    "2012 é ano Bissexo:\n",
    "28/02/2012 - Ao avancar um dia vamos para a data:  29/02/2012\n",
    "28/02/2013 - Ao avancar um dia vamos para a data:  01/03/2013\n",
    "1900 não é ano Bissexo. O número é divisivel por 100 mas não por 400: \n",
    "28/02/1900 - Ao avancar um dia vamos para a data:  01/03/1900\n",
    "2000 foi um é ano Bissexo. O número é divisivel por 400: \n",
    "28/02/2000 - Ao avancar um dia vamos para a data:  29/02/2000\n",
    "\n",
    "```"
   ]
  },
  {
   "cell_type": "code",
   "execution_count": 12,
   "metadata": {},
   "outputs": [
    {
     "ename": "TypeError",
     "evalue": "__init__() takes 4 positional arguments but 7 were given",
     "output_type": "error",
     "traceback": [
      "\u001b[1;31m---------------------------------------------------------------------------\u001b[0m",
      "\u001b[1;31mTypeError\u001b[0m                                 Traceback (most recent call last)",
      "\u001b[1;32m<ipython-input-12-c307ce5706f9>\u001b[0m in \u001b[0;36m<module>\u001b[1;34m\u001b[0m\n\u001b[0;32m      3\u001b[0m \u001b[1;33m\u001b[0m\u001b[0m\n\u001b[0;32m      4\u001b[0m \u001b[1;32mif\u001b[0m \u001b[0m__name__\u001b[0m \u001b[1;33m==\u001b[0m \u001b[1;34m\"__main__\"\u001b[0m\u001b[1;33m:\u001b[0m\u001b[1;33m\u001b[0m\u001b[1;33m\u001b[0m\u001b[0m\n\u001b[1;32m----> 5\u001b[1;33m     \u001b[0mcr\u001b[0m \u001b[1;33m=\u001b[0m \u001b[0mCalendarioRelogio\u001b[0m\u001b[1;33m(\u001b[0m\u001b[1;36m31\u001b[0m\u001b[1;33m,\u001b[0m \u001b[1;36m12\u001b[0m\u001b[1;33m,\u001b[0m \u001b[1;36m2013\u001b[0m\u001b[1;33m,\u001b[0m \u001b[1;36m23\u001b[0m\u001b[1;33m,\u001b[0m \u001b[1;36m59\u001b[0m\u001b[1;33m,\u001b[0m \u001b[1;36m59\u001b[0m\u001b[1;33m)\u001b[0m\u001b[1;33m\u001b[0m\u001b[1;33m\u001b[0m\u001b[0m\n\u001b[0m\u001b[0;32m      6\u001b[0m     \u001b[0mprint\u001b[0m\u001b[1;33m(\u001b[0m\u001b[1;34m\"Passou um segundo de\"\u001b[0m\u001b[1;33m,\u001b[0m \u001b[0mcr\u001b[0m\u001b[1;33m,\u001b[0m \u001b[0mend\u001b[0m\u001b[1;33m=\u001b[0m\u001b[1;34m\" \"\u001b[0m\u001b[1;33m)\u001b[0m\u001b[1;33m\u001b[0m\u001b[1;33m\u001b[0m\u001b[0m\n\u001b[0;32m      7\u001b[0m     \u001b[0mcr\u001b[0m\u001b[1;33m.\u001b[0m\u001b[0mmarca_segundo\u001b[0m\u001b[1;33m(\u001b[0m\u001b[1;33m)\u001b[0m\u001b[1;33m\u001b[0m\u001b[1;33m\u001b[0m\u001b[0m\n",
      "\u001b[1;31mTypeError\u001b[0m: __init__() takes 4 positional arguments but 7 were given"
     ]
    }
   ],
   "source": [
    "class CalendarioRelogio(Relogio, Calendario):\n",
    "    pass\n",
    "\n",
    "if __name__ == \"__main__\":\n",
    "    cr = CalendarioRelogio(31, 12, 2013, 23, 59, 59)\n",
    "    print(\"Passou um segundo de\", cr, end=\" \")\n",
    "    cr.marca_segundo()\n",
    "    print(\"para\", cr)\n",
    "\n",
    "    cr = CalendarioRelogio(7, 2, 2013, 13, 55, 40)\n",
    "    print(\"Passou um segundo de\", cr, end=\" \")\n",
    "    cr.marca_segundo()\n",
    "    print(\"para\", cr)"
   ]
  },
  {
   "cell_type": "markdown",
   "metadata": {},
   "source": [
    "Saída esperada para o código acima:\n",
    "```\n",
    "Passou um segundo de 31/12/2013, 23:59:59 para 01/01/2014, 00:00:00\n",
    "Passou um segundo de 07/02/2013, 13:55:40 para 07/02/2013, 13:55:41\n",
    "```"
   ]
  },
  {
   "cell_type": "code",
   "execution_count": null,
   "metadata": {},
   "outputs": [],
   "source": []
  }
 ],
 "metadata": {
  "kernelspec": {
   "display_name": "Python 3",
   "language": "python",
   "name": "python3"
  },
  "language_info": {
   "codemirror_mode": {
    "name": "ipython",
    "version": 3
   },
   "file_extension": ".py",
   "mimetype": "text/x-python",
   "name": "python",
   "nbconvert_exporter": "python",
   "pygments_lexer": "ipython3",
   "version": "3.8.8"
  }
 },
 "nbformat": 4,
 "nbformat_minor": 4
}
