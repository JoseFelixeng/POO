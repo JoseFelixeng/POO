{
 "cells": [
  {
   "cell_type": "markdown",
   "id": "79c32a65",
   "metadata": {},
   "source": [
    "# Aula 3 - Anotações_Classes, Objetos e Abstração"
   ]
  },
  {
   "cell_type": "markdown",
   "id": "0dbe3a28",
   "metadata": {},
   "source": [
    "Para se Criar uma classe é necessario que sejam feitos os seguintes passos\n",
    "1 -  Atribuir uma classe\n",
    "2 - Descrever de que forma irá iniciar \"Inicializador\"\n",
    "3 - Métodos: Funções que determinam o componente da classe\n",
    "\n",
    "Depois que a classe esta definida é possivel criar objetos da classe\n",
    "\n"
   ]
  },
  {
   "cell_type": "markdown",
   "id": "82f9964f",
   "metadata": {},
   "source": [
    "# 1. Inicializadores e Atributos "
   ]
  },
  {
   "cell_type": "code",
   "execution_count": 2,
   "id": "1d280e3a",
   "metadata": {},
   "outputs": [],
   "source": [
    "class Pessoa:\n",
    "    '''Representação de uma pessoa'''\n",
    "    \n",
    "    def __init__(self):\n",
    "        '''Inicia uma pessoa com atributos com valor padrão'''\n",
    "        self.nome = ''\n",
    "        self.idade = 0\n",
    "        self.cidade = ''"
   ]
  },
  {
   "cell_type": "markdown",
   "id": "1330e208",
   "metadata": {},
   "source": [
    "__init__ é o inicializador da classe (parecido com o construtor de outras linguagens)\n",
    "\n",
    "Chamado automaticamente quando um objeto da classe é criado\n",
    "\n",
    "self é a referência ao próprio objeto criado\n",
    "\n",
    "É um nome utilizado para acessar os valores dos atributos dentro da classe\n",
    "É sempre o primeiro parâmetro\n",
    "Referência explícita (em outras linguagens a referência é implícita\n",
    "Similar ao this do Java/C++\n",
    "self.nome e self.idade são os 2 atributos (características) da classe\n",
    "\n",
    "Todos os atributos da classe devem ser declarados no __init__"
   ]
  },
  {
   "cell_type": "markdown",
   "id": "201334a5",
   "metadata": {},
   "source": [
    "# 2. Criando Objetos"
   ]
  },
  {
   "cell_type": "code",
   "execution_count": 19,
   "id": "313a697b",
   "metadata": {},
   "outputs": [
    {
     "name": "stdout",
     "output_type": "stream",
     "text": [
      "Qual a sua cidade? Santa Cruz\n",
      "João\n",
      "20\n",
      "A sua cidade é Santa Cruz\n"
     ]
    }
   ],
   "source": [
    "p = Pessoa() # A partir do objeto já criado se constroi um objeto da Classe pessoa\n",
    "\n",
    "p.nome = 'João' # Atribuiu o nome joão a variavel nome\n",
    "p.idade = 20 # Atribuiu 20 a variavel idade\n",
    "p.cidade = str(input('Qual a sua cidade? '))\n",
    "# Para verificar os valores atribuidos\n",
    "print(p.nome) # Lembrar de adicionar o objetos ao atribuimos a variavel\n",
    "print(p.idade)\n",
    "print(f'A sua cidade é {p.cidade}')"
   ]
  },
  {
   "cell_type": "markdown",
   "id": "1ced51cd",
   "metadata": {},
   "source": [
    "# 3. Definindo os metodos da classe"
   ]
  },
  {
   "cell_type": "markdown",
   "id": "55b4b887",
   "metadata": {},
   "source": [
    "O comportamento de uma classe é determinado quando os seus métodos são programados. Um método nada mais é do que uma função dentro do escopo de uma classe. Este deve ser executado/chamado/invocado através de objetos da classe."
   ]
  },
  {
   "cell_type": "code",
   "execution_count": 41,
   "id": "e22d2b15",
   "metadata": {},
   "outputs": [
    {
     "name": "stdout",
     "output_type": "stream",
     "text": [
      "Nome: Joao - Idade: 20 - Salario: 999.99\n"
     ]
    }
   ],
   "source": [
    "class Pessoa:\n",
    "    '''Representação de uma pessoa'''\n",
    "    \n",
    "    def __init__(self, nome, idade, salario): # inicializador possui dois parâmetros\n",
    "        '''Inicia uma pessoa com atributos com valor padrão'''\n",
    "        self.nome = nome\n",
    "        self.idade = idade\n",
    "        self.salario = salario\n",
    "        \n",
    "    def imprime(self):\n",
    "        '''Imprime um texto com informações da Pessoa'''\n",
    "        print(f'Nome: {self.nome} - Idade: {self.idade} - Salario: {self.salario}')\n",
    "        \n",
    "# A partir deste ponto no código, o código está fora do escopo da classe\n",
    "p = Pessoa('Joao', 20, 999.99) # dois parâmetros passados\n",
    "p.imprime()\n",
    "\n",
    "#Exemplo da aula"
   ]
  },
  {
   "cell_type": "code",
   "execution_count": 43,
   "id": "8569799b",
   "metadata": {},
   "outputs": [
    {
     "name": "stdout",
     "output_type": "stream",
     "text": [
      "Insira o seu Nome: Jose Felix Rodrigues Anselmo \n",
      "Insira o seu Idade: 25\n",
      "Salario Recebido: 999.99\n",
      "Nome: Jose Felix Rodrigues Anselmo   -  Idade: 25 - Salario: 999.99\n"
     ]
    }
   ],
   "source": [
    "class Pessoa:\n",
    "    '''Representa um cadastro de uma pessoa'''\n",
    "    \n",
    "    def __init__(self):\n",
    "        '''Dados da Pessoa'''\n",
    "        self.nome = ''\n",
    "        self.idade = 0\n",
    "        self.salario = 0.0\n",
    "    \n",
    "    def imprime(self):\n",
    "        '''Imprimir os dados adcionados ao cadastro'''\n",
    "        print(f'Nome: {self.nome}  -  Idade: {self.idade} - Salario: {self.salario}')\n",
    "        \n",
    "# Apartir daqui serão os dados de entrada da pessoa\n",
    "p = Pessoa()\n",
    "p.nome = str(input('Insira o seu Nome: '))\n",
    "p.idade = int(input('Insira o seu Idade: '))\n",
    "p.salario = float(input('Salario Recebido: '))\n",
    "#Imprimir os dados:\n",
    "p.imprime()\n",
    "\n",
    "#Exemplo Proprio"
   ]
  },
  {
   "cell_type": "markdown",
   "id": "3d703388",
   "metadata": {},
   "source": [
    "# Exemplo 2 - Ponto 2D"
   ]
  },
  {
   "cell_type": "code",
   "execution_count": 49,
   "id": "2793a3d4",
   "metadata": {},
   "outputs": [
    {
     "name": "stdout",
     "output_type": "stream",
     "text": [
      "Ponto2D(4,3)\n"
     ]
    }
   ],
   "source": [
    "class Ponto2D:\n",
    "    '''Representa as coordenadas do plano cartesiano'''\n",
    "    \n",
    "    def __init__(self, x, y): # Inicializando com dois parâmetros\n",
    "        '''Coordenadas do Plano'''\n",
    "        self.x = x\n",
    "        self.y = y\n",
    "        \n",
    "    def imprime(self):\n",
    "        '''Imprimindo as coordenadas'''\n",
    "        print('Ponto2D({},{})'.format(self.x,self.y))\n",
    "        \n",
    "# Entrada dos pontos 2D:\n",
    "P1 = Ponto2D(4,3)\n",
    "P1.imprime()\n",
    "        "
   ]
  },
  {
   "cell_type": "markdown",
   "id": "b6bfcd91",
   "metadata": {},
   "source": [
    "# Metodos Mágicos em Python"
   ]
  },
  {
   "cell_type": "markdown",
   "id": "2a58d8bc",
   "metadata": {},
   "source": [
    "A linguagem Python possui uma série de métodos mágicos, também conhecidos como \"dunders\" (double underscores), que começam e terminam com \"( __ )\" (dois underscores). O '__init__' é um exemplo de método mágico.\n",
    "\n",
    "Existe também um método mágico para converter um objeto em uma string, como mostrado a seguir."
   ]
  },
  {
   "cell_type": "code",
   "execution_count": 50,
   "id": "e4a11090",
   "metadata": {},
   "outputs": [
    {
     "name": "stdout",
     "output_type": "stream",
     "text": [
      "Joao - 20\n",
      "Joao - 20\n",
      "Joao - 20\n"
     ]
    }
   ],
   "source": [
    "class Pessoa:\n",
    "    '''Representação de uma pessoa'''\n",
    "    \n",
    "    def __init__(self, nome, idade): # inicializador possui dois parâmetros\n",
    "        '''Inicia uma pessoa com atributos com valor padrão'''\n",
    "        self.nome = nome\n",
    "        self.idade = idade\n",
    "        \n",
    "    def __str__(self):\n",
    "        '''Retorna uma representaçãoem formato de string de uma Pessoa'''\n",
    "        return(f'{self.nome} - {self.idade}')\n",
    "\n",
    "p = Pessoa('Joao', 20) # dois parâmetros passados\n",
    "s = str(p) # string s recebe o resultado da conversão  \n",
    "print(s) # imprime string\n",
    "print(p.__str__()) # faz o mesmo que acima (quase nunca utilizada)\n",
    "print(p) # melhor forma de imprimir um objeto"
   ]
  },
  {
   "cell_type": "markdown",
   "id": "2e4f8618",
   "metadata": {},
   "source": [
    "# Parâmetros e Métodos"
   ]
  },
  {
   "cell_type": "markdown",
   "id": "c068aeb9",
   "metadata": {},
   "source": [
    "Nada impede dos métodos receberem outras instâncias da mesma classe (ou de outras classes) como parâmetros. Por exemplo, pode ser interessante para a classe Pessoa ter um método cumprimeta implementado. Este método é utilizado para uma pessoa cumprimentar uma outra passada como parâmetro:"
   ]
  },
  {
   "cell_type": "code",
   "execution_count": 52,
   "id": "b1c2f677",
   "metadata": {},
   "outputs": [
    {
     "name": "stdout",
     "output_type": "stream",
     "text": [
      "Olá Maria, tudo bem?\n",
      "Olá Joao, tudo bem?\n"
     ]
    }
   ],
   "source": [
    "class Pessoa:\n",
    "    '''Representação de uma pessoa'''\n",
    "    \n",
    "    def __init__(self, nome, idade): # inicializador possui dois parâmetros\n",
    "        '''Inicia uma pessoa com atributos com valor padrão'''\n",
    "        self.nome = nome\n",
    "        self.idade = idade\n",
    "        \n",
    "    def __str__(self):\n",
    "        '''Retorna uma representação em formato de string de uma Pessoa'''\n",
    "        return(f'{self.nome} - {self.idade}')\n",
    "    \n",
    "    def cumprimenta(self, p):\n",
    "        '''Cumprimenta uma pessoa passada como parâmetro'''\n",
    "        print(f'Olá {p.nome}, tudo bem?')\n",
    "\n",
    "p1 = Pessoa('Joao', 20)\n",
    "p2 = Pessoa('Maria', 21)\n",
    "p1.cumprimenta(p2) # pessoa p1 cumprimenta p2\n",
    "p2.cumprimenta(p1) # pessoa p2 cumprimenta p1"
   ]
  },
  {
   "cell_type": "markdown",
   "id": "3c4f0318",
   "metadata": {},
   "source": [
    "# 4. Classes que usam outras Classes"
   ]
  },
  {
   "cell_type": "markdown",
   "id": "af9e1e36",
   "metadata": {},
   "source": [
    "Em programação orientada a objetos é possível utilizar objetos como atributos das classes sendo construídas.\n",
    "\n",
    "Um possível exemplo é a classe Circulo, que tem como atributos o seu raio e o seu centro. Este último é um objeto da classe Ponto2D. Observe o código a seguir."
   ]
  },
  {
   "cell_type": "code",
   "execution_count": 53,
   "id": "eab3f727",
   "metadata": {},
   "outputs": [
    {
     "name": "stdout",
     "output_type": "stream",
     "text": [
      "Circulo(Ponto2D(0,0), 5)\n",
      "Circulo(Ponto2D(4,10), 5)\n",
      "Help on Circulo in module __main__ object:\n",
      "\n",
      "class Circulo(builtins.object)\n",
      " |  Circulo(centro, raio)\n",
      " |  \n",
      " |  Representação de um círculo\n",
      " |  \n",
      " |  Methods defined here:\n",
      " |  \n",
      " |  __init__(self, centro, raio)\n",
      " |      Centro (x,y) e raio do círculo\n",
      " |  \n",
      " |  __str__(self)\n",
      " |      Retorna uma representação em formato string de um Circulo\n",
      " |  \n",
      " |  move_centro(self, novoX, novoY)\n",
      " |      Move o centro do círculo\n",
      " |  \n",
      " |  ----------------------------------------------------------------------\n",
      " |  Data descriptors defined here:\n",
      " |  \n",
      " |  __dict__\n",
      " |      dictionary for instance variables (if defined)\n",
      " |  \n",
      " |  __weakref__\n",
      " |      list of weak references to the object (if defined)\n",
      "\n"
     ]
    }
   ],
   "source": [
    "class Ponto2D:\n",
    "    '''Representação de uma coordenada no plano cartesiano'''\n",
    "    \n",
    "    def __init__(self, x, y):\n",
    "        '''Inicialização das coordenadas x e y'''\n",
    "        self.x = x\n",
    "        self.y = y\n",
    "        \n",
    "    def __str__(self):\n",
    "        '''Retorna uma representação em formato string de um Ponto2D'''\n",
    "        return 'Ponto2D({},{})'.format(self.x, self.y)\n",
    "        \n",
    "class Circulo:\n",
    "    '''Representação de um círculo'''\n",
    "    \n",
    "    def __init__(self, centro, raio):\n",
    "        '''Centro (x,y) e raio do círculo'''\n",
    "        self.centro = centro\n",
    "        self.raio = raio\n",
    "    \n",
    "    def move_centro(self, novoX, novoY):\n",
    "        '''Move o centro do círculo'''\n",
    "        self.centro = Ponto2D(novoX, novoY)\n",
    "    \n",
    "    def __str__(self):\n",
    "        '''Retorna uma representação em formato string de um Circulo'''\n",
    "        return 'Circulo({}, {})'.format(self.centro, self.raio)\n",
    "\n",
    "# podemos criar objetos da classe Circulo\n",
    "c1 = Circulo(Ponto2D(0,0), 5)\n",
    "print(c1) #Conversão automática para str\n",
    "\n",
    "# move o círculo para uma nova posição\n",
    "c1.move_centro(4,10)\n",
    "print(c1)\n",
    "\n",
    "# sempre devemos documentar!\n",
    "help(c1)"
   ]
  },
  {
   "cell_type": "markdown",
   "id": "76c35ecf",
   "metadata": {},
   "source": [
    "# 5. Função Main"
   ]
  },
  {
   "cell_type": "markdown",
   "id": "34c265bc",
   "metadata": {},
   "source": [
    "Em Python, não é necessário definir a função main (ver exemplos acima). Porém, existem vantagens em escrever essa função como a seguir."
   ]
  },
  {
   "cell_type": "code",
   "execution_count": 54,
   "id": "ff38fc7e",
   "metadata": {},
   "outputs": [
    {
     "name": "stdout",
     "output_type": "stream",
     "text": [
      "Circulo(Ponto2D(3,2), 10)\n"
     ]
    }
   ],
   "source": [
    "def main():\n",
    "    '''Função principal'''\n",
    "    C = Circulo(Ponto2D(3,2),10)\n",
    "    print(C)\n",
    "\n",
    "# executar a função principal\n",
    "if __name__ == \"__main__\":\n",
    "    main()"
   ]
  },
  {
   "cell_type": "markdown",
   "id": "cf5f07bf",
   "metadata": {},
   "source": [
    "O significado de ( __name__ ) == ( \"__main__\" ) vai ficar claro na aula de Módulos. Por enquanto, podemos dizer que o if está verificando se nosso programa está rodando no escopo principal (chamado de __main___) e não como um Módulo. Por enquanto, podemos ignorar esse if e o resultado é o mesmo."
   ]
  },
  {
   "cell_type": "code",
   "execution_count": 55,
   "id": "df6ffdc9",
   "metadata": {},
   "outputs": [
    {
     "name": "stdout",
     "output_type": "stream",
     "text": [
      "Circulo(Ponto2D(3,2), 10)\n"
     ]
    }
   ],
   "source": [
    "main() #Chamando a função main"
   ]
  },
  {
   "cell_type": "markdown",
   "id": "8866c680",
   "metadata": {},
   "source": [
    "# 6. Detalhes"
   ]
  },
  {
   "cell_type": "markdown",
   "id": "889cd184",
   "metadata": {},
   "source": [
    "Existe uma alternativa de chamada de método em Python, que fará mais sentido algumas aulas à frente. Na chamada C.move_centro(x, y), da implementação da classe Circulo, o que a linguagem faz é \"traduzir\" esta chamada para Circulo.move_centro(C, x, y). Ou seja, move_centro pode ser vista como uma função do módulo/biblioteca Circulo para a qual estão sendo passados os parâmetros C, x e y."
   ]
  },
  {
   "cell_type": "code",
   "execution_count": 56,
   "id": "4f9d886a",
   "metadata": {},
   "outputs": [
    {
     "name": "stdout",
     "output_type": "stream",
     "text": [
      "Circulo(Ponto2D(1,1), 1)\n",
      "Circulo(Ponto2D(1,1), 1)\n"
     ]
    }
   ],
   "source": [
    "C = Circulo(Ponto2D(0,0), 1)\n",
    "x = y = 1\n",
    "C.move_centro(x, y) # forma comum de chamar um método\n",
    "print(C)\n",
    "Circulo.move_centro(C, x, y) # forma alternativa (nunca utilizada)\n",
    "print(C)"
   ]
  },
  {
   "cell_type": "markdown",
   "id": "bcfd058b",
   "metadata": {},
   "source": [
    "# Python como uma linguagem Dinâmica"
   ]
  },
  {
   "cell_type": "markdown",
   "id": "e85d2f33",
   "metadata": {},
   "source": [
    "\n",
    "Python é uma linguagem dinamicamente tipada. De uma forma curta, o tipo (classe) das variáveis (objetos) é determinado com o programa em execução e não no momento da compilação (como acontece com C++). Além disso, é possível modificar os tipos/classes já definidos.\n",
    "\n",
    "Isto pode causar confusão. Observe o exemplo a seguir e veja como a linguagem se comporta com a criação dinâmica de atributos. Obviamente, esta forma de se trabalhar com a linguagem está incorreta e consta neste documento para que você entenda o funcionamento da linguagem com maior clareza."
   ]
  },
  {
   "cell_type": "code",
   "execution_count": 57,
   "id": "40bc3e5d",
   "metadata": {},
   "outputs": [
    {
     "name": "stdout",
     "output_type": "stream",
     "text": [
      "Ponto2D(0,0)\n",
      "vermelho\n"
     ]
    }
   ],
   "source": [
    "class Ponto2D:\n",
    "    '''Representação de uma coordenada no plano cartesiano'''\n",
    "    \n",
    "    def __init__(self, x, y):\n",
    "        '''Inicialização das coordenadas x e y'''\n",
    "        self.x = x\n",
    "        self.y = y\n",
    "        \n",
    "    def __str__(self):\n",
    "        '''Retorna uma representação em formato string de um Ponto2D'''\n",
    "        return 'Ponto2D({},{})'.format(self.x, self.y)\n",
    "\n",
    "# separação do programa que usa as classes das definições das classes\n",
    "if __name__ == \"__main__\":\n",
    "    p1 = Ponto2D(0, 0)\n",
    "    print(p1)\n",
    "    p1.cor = 'vermelho' # novo atributo criado dinamicamente; observe que ele não está na definição da classe\n",
    "    print(p1.cor)\n",
    "    p2 = Ponto2D(1, 1)\n",
    "    #print(p2.cor) #erro! o objeto p2 não possui o atributo cor"
   ]
  },
  {
   "cell_type": "code",
   "execution_count": null,
   "id": "63a1b28c",
   "metadata": {},
   "outputs": [],
   "source": [
    "class Pessoa:\n",
    "    '''Essa classe Atribui valores para uma pessoa.'''\n",
    "\n",
    "    def __init__(self):\n",
    "        '''Usada para entrar com os dados da pessoa'''\n",
    "        self.nome = ''\n",
    "        self.cpf = 0\n",
    "        self.idade = 0 \n",
    "    def imprime(self, nome, cpf, idade):\n",
    "        '''Imprime os dados da pessoa'''\n",
    "        print(f'O seu nome é {p.nome}, Seu CPF: {p.cpf} e a sua idade: {p.idade}')\n",
    "\n",
    "\n",
    "p = Pessoa()\n",
    "p.nome = str(input('Digite o nome da pessoa: '))\n",
    "p.cpf = int(input('Digite o CPF da pessoa: '))\n",
    "p.idade = int(input('Digite o CPF da pessoa: '))\n",
    "p.imprime()\n"
   ]
  },
  {
   "cell_type": "code",
   "execution_count": null,
   "id": "7c4d3513",
   "metadata": {},
   "outputs": [],
   "source": []
  }
 ],
 "metadata": {
  "kernelspec": {
   "display_name": "Python 3",
   "language": "python",
   "name": "python3"
  },
  "language_info": {
   "codemirror_mode": {
    "name": "ipython",
    "version": 3
   },
   "file_extension": ".py",
   "mimetype": "text/x-python",
   "name": "python",
   "nbconvert_exporter": "python",
   "pygments_lexer": "ipython3",
   "version": "3.8.8"
  }
 },
 "nbformat": 4,
 "nbformat_minor": 5
}
