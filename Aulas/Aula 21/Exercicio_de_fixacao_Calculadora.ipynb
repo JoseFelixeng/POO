{
 "cells": [
  {
   "cell_type": "markdown",
   "id": "76bef548",
   "metadata": {},
   "source": [
    "Implemente uma calculadora com interface gráfica em Tkinter. A calculadora deve conter apenas as operações de soma, divisão e multiplicação com números inteiros.\n",
    "\n",
    "Obrigatoriamente, a calculadora deve funcionar da seguinte forma:\n",
    "\n",
    "Em um campo de texto, deve ser digitado o primeiro operando, dígito a dígito\n",
    "Em seguida, deve ser clicada a operação desejada. O campo de texto deve se apagar e aguardar a digitação do segundo operando\n",
    "Após o segundo operando ter sido digitado e o usuário clicar no botão de \"=\", o resultado deve ser mostrado\n",
    "Uma nova operação pode ser realizada a partir do momento que for digitado qualquer número, quando o campo de texto deve apagar o resultado da operação anterior e exibir os dígitos do primeiro operando da nova operação\n",
    "A operação sendo realizada deve ficar indicada com o botão do operador estando visualmente pressionado (tk.SUNKEN) quando o segundo operando está sendo digitado. O botão da operação deve voltar ao normal (tk.RAISED) quando o botão \"=\" for clicado para exibir o resultado.\n",
    "\n",
    "Observe o vídeo a seguir com o funcionamento esperado."
   ]
  },
  {
   "cell_type": "code",
   "execution_count": 56,
   "id": "5ea73929",
   "metadata": {},
   "outputs": [
    {
     "ename": "TclError",
     "evalue": "cannot use geometry manager grid inside . which already has slaves managed by pack",
     "output_type": "error",
     "traceback": [
      "\u001b[1;31m---------------------------------------------------------------------------\u001b[0m",
      "\u001b[1;31mTclError\u001b[0m                                  Traceback (most recent call last)",
      "\u001b[1;32m<ipython-input-56-f6a6b1763b26>\u001b[0m in \u001b[0;36m<module>\u001b[1;34m\u001b[0m\n\u001b[0;32m     45\u001b[0m \u001b[1;33m\u001b[0m\u001b[0m\n\u001b[0;32m     46\u001b[0m \u001b[1;33m\u001b[0m\u001b[0m\n\u001b[1;32m---> 47\u001b[1;33m \u001b[0mb7\u001b[0m\u001b[1;33m.\u001b[0m\u001b[0mgrid\u001b[0m\u001b[1;33m(\u001b[0m\u001b[0mrow\u001b[0m\u001b[1;33m=\u001b[0m\u001b[1;36m1\u001b[0m\u001b[1;33m,\u001b[0m \u001b[0mcolumn\u001b[0m\u001b[1;33m=\u001b[0m\u001b[1;36m0\u001b[0m\u001b[1;33m)\u001b[0m\u001b[1;33m\u001b[0m\u001b[1;33m\u001b[0m\u001b[0m\n\u001b[0m\u001b[0;32m     48\u001b[0m \u001b[0mb8\u001b[0m\u001b[1;33m.\u001b[0m\u001b[0mgrid\u001b[0m\u001b[1;33m(\u001b[0m\u001b[0mrow\u001b[0m\u001b[1;33m=\u001b[0m\u001b[1;36m1\u001b[0m\u001b[1;33m,\u001b[0m \u001b[0mcolumn\u001b[0m\u001b[1;33m=\u001b[0m\u001b[1;36m1\u001b[0m\u001b[1;33m)\u001b[0m\u001b[1;33m\u001b[0m\u001b[1;33m\u001b[0m\u001b[0m\n\u001b[0;32m     49\u001b[0m \u001b[0mb9\u001b[0m\u001b[1;33m.\u001b[0m\u001b[0mgrid\u001b[0m\u001b[1;33m(\u001b[0m\u001b[0mrow\u001b[0m\u001b[1;33m=\u001b[0m\u001b[1;36m1\u001b[0m\u001b[1;33m,\u001b[0m \u001b[0mcolumn\u001b[0m\u001b[1;33m=\u001b[0m\u001b[1;36m2\u001b[0m\u001b[1;33m)\u001b[0m\u001b[1;33m\u001b[0m\u001b[1;33m\u001b[0m\u001b[0m\n",
      "\u001b[1;32m~\\anaconda3\\lib\\tkinter\\__init__.py\u001b[0m in \u001b[0;36mgrid_configure\u001b[1;34m(self, cnf, **kw)\u001b[0m\n\u001b[0;32m   2491\u001b[0m                       \u001b[0mwidget\u001b[0m \u001b[0mstick\u001b[0m \u001b[0mto\u001b[0m \u001b[0mthe\u001b[0m \u001b[0mcell\u001b[0m \u001b[0mboundary\u001b[0m\u001b[1;33m\u001b[0m\u001b[1;33m\u001b[0m\u001b[0m\n\u001b[0;32m   2492\u001b[0m         \"\"\"\n\u001b[1;32m-> 2493\u001b[1;33m         self.tk.call(\n\u001b[0m\u001b[0;32m   2494\u001b[0m               \u001b[1;33m(\u001b[0m\u001b[1;34m'grid'\u001b[0m\u001b[1;33m,\u001b[0m \u001b[1;34m'configure'\u001b[0m\u001b[1;33m,\u001b[0m \u001b[0mself\u001b[0m\u001b[1;33m.\u001b[0m\u001b[0m_w\u001b[0m\u001b[1;33m)\u001b[0m\u001b[1;33m\u001b[0m\u001b[1;33m\u001b[0m\u001b[0m\n\u001b[0;32m   2495\u001b[0m               + self._options(cnf, kw))\n",
      "\u001b[1;31mTclError\u001b[0m: cannot use geometry manager grid inside . which already has slaves managed by pack"
     ]
    }
   ],
   "source": [
    "import tkinter as tk\n",
    "\n",
    "#Função calculadora:\n",
    "def calculadora(num1 = None,op = '',num2 = None):\n",
    "    if op == '+':\n",
    "        return num1 + num2\n",
    "    elif op == '-':\n",
    "        return num1 - num2\n",
    "    elif op == '*':\n",
    "        return num1 * num2\n",
    "    elif op == '/':\n",
    "        return num1/num2\n",
    "    else:\n",
    "        print('Operação usada foi inválida!')\n",
    "        \n",
    "#Interface Gráfica:\n",
    "root = tk.Tk() # => iniciando a interface Tkinter\n",
    "root.title('Calculadora TK') # => Criando um titulo para a aplicação \n",
    "root.geometry('400x400+200+200') # = > Criando a janela de Width = 400, height = 400 , x = 200, y = 200\n",
    "\n",
    "#Criando o grid \n",
    "\n",
    "f = tk.Frame(root, bd=4, bg='white', relief=tk.SUNKEN)\n",
    "f.pack(fill=tk.BOTH, expand=1)\n",
    "\n",
    "e0 = tk.Entry(f, bg='blue')\n",
    "\n",
    "\n",
    "\n",
    "b7 = tk.Button(root, text='7', bg='gray')\n",
    "b8 = tk.Button(root, text='8', bg='gray')\n",
    "b9 = tk.Button(root, text='9', bg='gray')\n",
    "bs = tk.Button(root, text='+', bg='gray')\n",
    "b4 = tk.Button(root, text='4', bg='gray')\n",
    "b5 = tk.Button(root, text='5', bg='gray')\n",
    "b6 = tk.Button(root, text='6', bg='gray')\n",
    "bsu = tk.Button(root, text='-', bg='gray')\n",
    "b1 = tk.Button(root, text='1', bg='gray')\n",
    "b2 = tk.Button(root, text='2', bg='gray')\n",
    "b3 = tk.Button(root, text='3', bg='gray')\n",
    "bmu = tk.Button(root, text='*', bg='gray')\n",
    "bd = tk.Button(root, text='/', bg='gray')\n",
    "b0 = tk.Button(root, text='0', bg='gray')\n",
    "bi = tk.Button(root, text='=', bg='gray')\n",
    "\n",
    "e0.grid(row=0, column=)\n",
    "b7.grid(row=1, column=0)\n",
    "b8.grid(row=1, column=1)\n",
    "b9.grid(row=1, column=2)\n",
    "bs.grid(row=1, column=3)\n",
    "\n",
    "b4.grid(row=2, column=0)\n",
    "b5.grid(row=2, column=1)\n",
    "b6.grid(row=2, column=2)\n",
    "bsu.grid(row=2, column=3)\n",
    "\n",
    "b1.grid(row=3, column=0)\n",
    "b2.grid(row=3, column=1)\n",
    "b3.grid(row=3, column=2)\n",
    "bmu.grid(row=3, column=3)\n",
    "\n",
    "bd.grid(row=4, column=0)\n",
    "b0.grid(row=4, column=1)\n",
    "bi.grid(row=4, column=2)\n",
    "\n",
    "\n",
    "\n",
    "\n",
    "\n",
    "\n",
    "\n",
    "\n",
    "\n",
    "\n",
    "\n",
    "\n",
    "\n",
    "\n",
    "\n",
    "\n",
    "\n",
    "\n",
    "\n",
    "\n",
    "root.mainloop() # => Iniciando o Programar\n",
    "\n",
    "\n",
    "print('Desligando....')\n"
   ]
  },
  {
   "cell_type": "code",
   "execution_count": 5,
   "id": "9483500d",
   "metadata": {},
   "outputs": [
    {
     "name": "stdout",
     "output_type": "stream",
     "text": [
      "4\n"
     ]
    }
   ],
   "source": [
    "c = calculadora(2, '*', 2)\n",
    "print(c)"
   ]
  },
  {
   "cell_type": "code",
   "execution_count": null,
   "id": "d5cbb5cf",
   "metadata": {},
   "outputs": [],
   "source": []
  }
 ],
 "metadata": {
  "kernelspec": {
   "display_name": "Python 3",
   "language": "python",
   "name": "python3"
  },
  "language_info": {
   "codemirror_mode": {
    "name": "ipython",
    "version": 3
   },
   "file_extension": ".py",
   "mimetype": "text/x-python",
   "name": "python",
   "nbconvert_exporter": "python",
   "pygments_lexer": "ipython3",
   "version": "3.8.8"
  }
 },
 "nbformat": 4,
 "nbformat_minor": 5
}
