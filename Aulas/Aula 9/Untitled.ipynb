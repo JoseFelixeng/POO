{
 "cells": [
  {
   "cell_type": "markdown",
   "id": "2832e4a5",
   "metadata": {},
   "source": [
    "# Só para brincar com os Codigos"
   ]
  },
  {
   "cell_type": "code",
   "execution_count": 4,
   "id": "5dc21f6b",
   "metadata": {},
   "outputs": [
    {
     "name": "stdout",
     "output_type": "stream",
     "text": [
      "Veiculo carro sedan com 4 rodas\n",
      "Veiculo carro esportivo com 4 rodas\n",
      "Veiculo carro sedan com 3 rodas\n",
      "Veiculo carro esportivo com 4 rodas\n"
     ]
    }
   ],
   "source": [
    "# Primeira tentativa\n",
    "class Veiculo4Rodas:\n",
    "    def __init__(self, nome):\n",
    "        self.nome = nome\n",
    "        self.rodas = 4 # atributo de instância\n",
    "        \n",
    "    def __str__(self):\n",
    "        return f'Veiculo {self.nome} com {self.rodas} rodas'\n",
    "\n",
    "if __name__ == '__main__':\n",
    "    # cada instância pode ter um número diferente de rodas\n",
    "    v1 = Veiculo4Rodas('carro sedan')\n",
    "    v2 = Veiculo4Rodas('carro esportivo')\n",
    "    print(v1)\n",
    "    print(v2)\n",
    "    v1.rodas = 3 # modificando a qtd. de rodas de v1\n",
    "    print(v1)\n",
    "    print(v2)"
   ]
  }
 ],
 "metadata": {
  "kernelspec": {
   "display_name": "Python 3",
   "language": "python",
   "name": "python3"
  },
  "language_info": {
   "codemirror_mode": {
    "name": "ipython",
    "version": 3
   },
   "file_extension": ".py",
   "mimetype": "text/x-python",
   "name": "python",
   "nbconvert_exporter": "python",
   "pygments_lexer": "ipython3",
   "version": "3.8.8"
  }
 },
 "nbformat": 4,
 "nbformat_minor": 5
}
