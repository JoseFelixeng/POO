{
 "cells": [
  {
   "cell_type": "markdown",
   "id": "d066ec27",
   "metadata": {},
   "source": [
    "# Teste de Código para pratica"
   ]
  },
  {
   "cell_type": "raw",
   "id": "2d0c8cba",
   "metadata": {},
   "source": [
    "A biblioteca padrão Python possui uma classe para representar um conjunto, chamada de set. Entretanto, ao invés de usar os métodos desta classe nesta aula, você deve implementá-los.\n",
    "\n",
    "Para isto, encapsule uma lista Python (list) para conter os elementos do conjunto como o único atributo da classe e implemente os métodos solicitados a seguir:\n",
    "\n",
    "adiciona: Adiciona objeto ao conjunto. Não faz nada se o objeto já estiver presente.\n",
    "interseccao: Retorna conjunto intersecção entre o conjunto e um conjunto c passado como parâmetro.\n",
    "__contains__: Retorna verdadeiro se elementoe está no conjunto. Torna possível utilizar o operador in.\n",
    "__str__: Retorna uma str representando o conjunto com todos os elementos separados por vírgulas entre chaves.\n",
    "ehVazio: Retorna verdadeiro se o conjunto é vazio.\n",
    "Utilize o código a seguir como ponto de partida."
   ]
  },
  {
   "cell_type": "code",
   "execution_count": 168,
   "id": "8557f91e",
   "metadata": {},
   "outputs": [],
   "source": [
    "class Conjunto:\n",
    "    '''Representa um conjunto de objetos'''\n",
    "    \n",
    "    def __init__(self):\n",
    "        '''Inicia como um nome para o Conjunto'''\n",
    "        self.__lista =[]\n",
    "    \n",
    "    def __contains__(self):\n",
    "        if lista:\n",
    "            return True\n",
    "            \n",
    "    def adicionar(self, elemento_novo):\n",
    "        '''Utilizada para adciomar um valor ao Objeto.'''\n",
    "\n",
    "        if self.__lista == elemento_novo :\n",
    "            print(f'Já possui o elemento \"{ {elemento_novo} }\" na lista. ')\n",
    "        else: \n",
    "            self.__lista.append(elemento_novo)\n",
    "            \n",
    "    def interseccao(self, novo_conjunto):\n",
    "        '''retornar uma intersecção entre dois valores '''\n",
    "        \n",
    "        s = []            \n",
    "        for i in self.__lista:\n",
    "            for j in novo_conjunto:\n",
    "                if i==j:\n",
    "                    s.append\n",
    "\n",
    "        return s\n",
    "    \n",
    "    def ehVazio(self):\n",
    "        if self.__lista in []:\n",
    "            return True\n",
    "        else: \n",
    "            return False\n",
    "        \n",
    "    @property\n",
    "    def lista(self):\n",
    "        '''retorna uma lista'''\n",
    "        return self.__lista\n",
    "    \n",
    "    @lista.setter\n",
    "    def titular(self, novo_valor):\n",
    "        '''Usado para modificar valores de listas'''\n",
    "        self.__lista = novo_valor\n",
    "        \n",
    "    def __str__(self):\n",
    "        '''Retonar o conjunto em forma de string'''\n",
    "        \n",
    "        return(f'A lista é  {self.__lista}')"
   ]
  },
  {
   "cell_type": "code",
   "execution_count": 155,
   "id": "0289793f",
   "metadata": {
    "scrolled": true
   },
   "outputs": [
    {
     "name": "stdout",
     "output_type": "stream",
     "text": [
      "A lista é  []\n",
      "False\n",
      "['Feliz', 'Feliz']\n",
      "False\n"
     ]
    }
   ],
   "source": [
    "c = Conjunto()\n",
    "print(c)\n",
    "print(c.ehVazio())\n",
    "c.adicionar('Feliz')\n",
    "c.adicionar('Feliz')\n",
    "print(c.lista)\n",
    "print(c.ehVazio())"
   ]
  },
  {
   "cell_type": "code",
   "execution_count": 169,
   "id": "419a4340",
   "metadata": {},
   "outputs": [
    {
     "name": "stdout",
     "output_type": "stream",
     "text": [
      "A lista é  []\n",
      "['a', 'b', 'c']\n",
      "True\n",
      "False\n",
      "c\n",
      "False\n",
      "A lista é  ['h', 'i', 'b']\n",
      "c\n",
      "A lista é  ['a', 'b', 'c']\n",
      "A lista é  ['h', 'i', 'b']\n",
      "['a', 'b', 'c']\n"
     ]
    }
   ],
   "source": [
    "    c1 = Conjunto()\n",
    "\n",
    "    print(c1)\n",
    "    c1.adicionar('a')\n",
    "    c1.adicionar('b')\n",
    "    c1.adicionar('c')\n",
    "    print(c1.lista)\n",
    "    print('a' in c1.lista)\n",
    "    print('g' in c1.lista)\n",
    "    c2 = Conjunto()\n",
    "    c2.adicionar('h')\n",
    "    c2.adicionar('i')\n",
    "    c3 = c1.interseccao(c2)\n",
    "    c3 = Conjunto()\n",
    "    print(c3.ehVazio())\n",
    "    c2.adicionar('b')\n",
    "    print(c2)\n",
    "    c3 = c1.interseccao(c2)\n",
    "    print(c1)\n",
    "    print(c2)\n",
    "    print(c3)"
   ]
  },
  {
   "cell_type": "code",
   "execution_count": null,
   "id": "c44d4819",
   "metadata": {},
   "outputs": [],
   "source": []
  },
  {
   "cell_type": "code",
   "execution_count": null,
   "id": "829a2e17",
   "metadata": {},
   "outputs": [],
   "source": []
  },
  {
   "cell_type": "code",
   "execution_count": null,
   "id": "58253c11",
   "metadata": {},
   "outputs": [],
   "source": []
  }
 ],
 "metadata": {
  "kernelspec": {
   "display_name": "Python 3",
   "language": "python",
   "name": "python3"
  },
  "language_info": {
   "codemirror_mode": {
    "name": "ipython",
    "version": 3
   },
   "file_extension": ".py",
   "mimetype": "text/x-python",
   "name": "python",
   "nbconvert_exporter": "python",
   "pygments_lexer": "ipython3",
   "version": "3.8.8"
  }
 },
 "nbformat": 4,
 "nbformat_minor": 5
}
