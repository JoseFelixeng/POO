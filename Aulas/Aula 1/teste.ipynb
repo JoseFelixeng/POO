{
 "cells": [
  {
   "cell_type": "markdown",
   "id": "1cd96f2d",
   "metadata": {},
   "source": [
    "# Isso aqui será apenas um teste das funções vistas para a aula do dia 20"
   ]
  },
  {
   "cell_type": "code",
   "execution_count": 8,
   "id": "1c6b9c51",
   "metadata": {},
   "outputs": [
    {
     "name": "stdout",
     "output_type": "stream",
     "text": [
      "A variavel x é =  60\n",
      "A variavel y é =  140\n",
      "A variavel z é =  2\n",
      "A soma das variaveis é =  202\n"
     ]
    }
   ],
   "source": [
    "# calculos diretos e utilização da função print\n",
    "x = 60\n",
    "y = 140 \n",
    "z = 2 \n",
    "\n",
    "W = x + y + z \n",
    "\n",
    "\n",
    "print(\"A variavel x é = \", x)\n",
    "print(\"A variavel y é = \", y)\n",
    "print(\"A variavel z é = \", z)\n",
    "print(\"A soma das variaveis é = \", W)"
   ]
  },
  {
   "cell_type": "code",
   "execution_count": 14,
   "id": "2d202a0b",
   "metadata": {},
   "outputs": [
    {
     "name": "stdout",
     "output_type": "stream",
     "text": [
      "a quantidade de alunos é:  7\n",
      "A maior nota dos aluno é:  8.9\n"
     ]
    },
    {
     "data": {
      "text/plain": [
       "bool"
      ]
     },
     "execution_count": 14,
     "metadata": {},
     "output_type": "execute_result"
    }
   ],
   "source": [
    "# Tipos de Variaveis e exemplos:\n",
    "x = 7 \n",
    "y = 8.90\n",
    "z = \"A maior nota dos aluno é: \"\n",
    "print(\"a quantidade de alunos é: \", x)\n",
    "print(z, y)\n",
    "flag = True\n",
    "type(flag)"
   ]
  },
  {
   "cell_type": "code",
   "execution_count": 21,
   "id": "4c0350cb",
   "metadata": {},
   "outputs": [
    {
     "data": {
      "text/plain": [
       "int"
      ]
     },
     "execution_count": 21,
     "metadata": {},
     "output_type": "execute_result"
    }
   ],
   "source": [
    "# Conversão de tipo em python\n",
    "x = \"51\" # O valor de x nesse caso é uma string.\n",
    "# para mudar o tipo da função e utiliza-la em outr função \n",
    "y = int(x)  # já nesse caso o valor de y é um inteiro devido a modificação do formato\n",
    "type(y)\n"
   ]
  },
  {
   "cell_type": "code",
   "execution_count": 23,
   "id": "d4751248",
   "metadata": {},
   "outputs": [
    {
     "name": "stdout",
     "output_type": "stream",
     "text": [
      "19.8\n"
     ]
    },
    {
     "data": {
      "text/plain": [
       "float"
      ]
     },
     "execution_count": 23,
     "metadata": {},
     "output_type": "execute_result"
    }
   ],
   "source": [
    "#Conversão Implicita em python\n",
    "a = 10 # = > a é um valor inteiro \n",
    "b = 9.8 # = > b é um valor float ou quebrado \n",
    "c = a + b # => c já no caso de c como a coma de um numero inteiro com um quebrado resultará em um numero quebrado esse será o valor de c.\n",
    "print(c)\n",
    "type(c)"
   ]
  },
  {
   "cell_type": "code",
   "execution_count": 24,
   "id": "f39f50ca",
   "metadata": {},
   "outputs": [
    {
     "name": "stdout",
     "output_type": "stream",
     "text": [
      "7\n",
      "3\n",
      "2.5\n",
      "2\n",
      "10\n"
     ]
    }
   ],
   "source": [
    "# Usando varios operadores matematicos ao mesmo tempo \n",
    "\n",
    "a = 5\n",
    "b = 2\n",
    "\n",
    "# Operações \n",
    "c = a + b # 7\n",
    "d = a - b # 3\n",
    "e = a / b # 2.5\n",
    "f = a // b # 2 => arredondou para uma casa mais proxima\n",
    "g = a * b  # 10\n",
    "\n",
    "print(c)\n",
    "print(d)\n",
    "print(e)\n",
    "print(f)\n",
    "print(g)"
   ]
  },
  {
   "cell_type": "code",
   "execution_count": 36,
   "id": "8b119376",
   "metadata": {},
   "outputs": [
    {
     "name": "stdout",
     "output_type": "stream",
     "text": [
      "7.0\n"
     ]
    }
   ],
   "source": [
    "#Importando e testando uma função matematica\n",
    "\n",
    "import math \n",
    "\n",
    "print(math.sqrt(49))\n"
   ]
  },
  {
   "cell_type": "code",
   "execution_count": 37,
   "id": "2145b0f1",
   "metadata": {},
   "outputs": [
    {
     "data": {
      "text/plain": [
       "True"
      ]
     },
     "execution_count": 37,
     "metadata": {},
     "output_type": "execute_result"
    }
   ],
   "source": [
    "# Testando os operadores relacionais\n",
    "1 < 2 < 3 < 4"
   ]
  },
  {
   "cell_type": "code",
   "execution_count": 1,
   "id": "987d3615",
   "metadata": {},
   "outputs": [
    {
     "name": "stdout",
     "output_type": "stream",
     "text": [
      "x é 5 e y é 6\n",
      "x é 5 e y é 6\n",
      "x é 5 e y é 6\n"
     ]
    }
   ],
   "source": [
    "# Comandos de Entrada e Saida\n",
    "#Comando de saida : print\n",
    "x = 5\n",
    "y = 6\n",
    "print(\"x é {0} e y é {1}\".format(x,y)) # Usado para atribuido as configurações a x e y dentro do contexto de coordenadas\n",
    "print(\"x é {} e y é {}\".format(x,y)) # Nesse caso os valores serão atribuidos na ordem de entrada\n",
    "print(f\"x é {x} e y é {y}\") # Nesse caso o f antes da string indica que os calores entre {} serão tradados da maneira pela qual foram inseridos\n",
    "# Para ambos os casos os valores inseridos serão exibidos ao final conforme formatação mesmo que sejam strings.\n"
   ]
  },
  {
   "cell_type": "code",
   "execution_count": 2,
   "id": "5a06d2ae",
   "metadata": {},
   "outputs": [
    {
     "name": "stdout",
     "output_type": "stream",
     "text": [
      "Insira o seu nome: Jose Felix Rodrigues Anselmo\n",
      "Insira a sua Idade: 25\n",
      "Insira o valor da Bolsa: 399.99\n"
     ]
    }
   ],
   "source": [
    "# Comando de Entrada : input\n",
    "# O comando input receberá as informações digitadas em forma de string logo caso seja qualquer outro tipo de formato será necessario a conversão do mesmo.\n",
    "nome  = input('Insira o seu nome: ') # receberá o valor padrão advindo do teclado em forma de string\n",
    "idade = int(input('Insira a sua Idade: ')) # Nesse caso a string recebida atraves do teclado será convertida em um valor inteiro\n",
    "valordabolsa = float(input('Insira o valor da Bolsa: '))\n"
   ]
  },
  {
   "cell_type": "code",
   "execution_count": 3,
   "id": "0beedb0d",
   "metadata": {},
   "outputs": [
    {
     "name": "stdout",
     "output_type": "stream",
     "text": [
      "x está entre 0 e 10\n"
     ]
    }
   ],
   "source": [
    "#Comando if em python o if é delimitado por dois pontos\n",
    "x = 5\n",
    "if 0 < x < 10:\n",
    "    print(\"x está entre 0 e 10\")\n",
    "elif 10 < x < 20:                 #Em python não existi 'else if' no seu lugar existi 'elif'               \n",
    "    print(\"x está entre 10 e 20\")     \n",
    "else:\n",
    "    print(\"x possui um valor diferente\")"
   ]
  },
  {
   "cell_type": "code",
   "execution_count": 1,
   "id": "43ccdfb2",
   "metadata": {},
   "outputs": [
    {
     "name": "stdout",
     "output_type": "stream",
     "text": [
      "O valor de x: 5\n",
      "O valor de x: 4\n",
      "O valor de x: 3\n",
      "O valor de x: 2\n",
      "O valor de x: 1\n",
      "Fim do tempo!\n"
     ]
    }
   ],
   "source": [
    "# Comando While - Repetição Condicionada \n",
    "\n",
    "p = 5\n",
    "\n",
    "while p > 0:\n",
    "    print('O valor de x: {}'.format(p)) # Usado da mesma forma que no if \n",
    "    p = p - 1 # mesmo com a troca de variaveis irá funcionar da mesma forma.\n",
    "else: # Nesse caso o else pode ser utilizado para um caso que não entre no laço de repetição\n",
    "    print('Fim do tempo!')"
   ]
  },
  {
   "cell_type": "code",
   "execution_count": 5,
   "id": "ddd7ed34",
   "metadata": {},
   "outputs": [
    {
     "name": "stdout",
     "output_type": "stream",
     "text": [
      "s = 0\n",
      "s = 1\n",
      "s = 2\n",
      "s = 3\n",
      "s = 4\n",
      "s = 5\n",
      "s = 6\n",
      "s = 7\n",
      "s = 8\n",
      "s = 9\n",
      "Acabou o tempo\n",
      "s = 10\n",
      "s = 9\n",
      "s = 8\n",
      "s = 7\n",
      "s = 6\n",
      "s = 5\n",
      "s = 4\n",
      "s = 3\n",
      "s = 2\n",
      "s = 1\n",
      "Acabou o tempo\n"
     ]
    }
   ],
   "source": [
    "# Comando de repetição for -  com condição de parada\n",
    "# No python o for tem um range de atuação ao qual deve se identicar o inicio e o fim do for\n",
    "# range(inicio, fim)\n",
    "\n",
    "for s in range(0, 10):    # s é a variavel que irá ser acrescida ao longo do tempo e dessa\n",
    "    print('s = {}'.format(s)) # Utilizando a formatação para não precisa adcionar diretamente a variavel diretamente dentro do codigo\n",
    "else: # Da mesma forma que o while também é possivel adcionar uma mensagem ao final do for.\n",
    "    print('Acabou o tempo')\n",
    "for s in range(10 ,0 , -1): # Decrementando \n",
    "    print(f\"s = {s}\")\n",
    "else:\n",
    "    print(\"Acabou o tempo\")"
   ]
  },
  {
   "cell_type": "code",
   "execution_count": 4,
   "id": "b58540f7",
   "metadata": {},
   "outputs": [],
   "source": [
    "#Funções em python - def: utilizando o def junto ao função deverá fazer da mesma forma que em c++\n",
    "\n",
    "def conversor_temp(cf):\n",
    "    '''Converte temperatura farenheit em celsius'''\n",
    "    return (cf - 32)/1.8\n",
    "\n"
   ]
  },
  {
   "cell_type": "code",
   "execution_count": 12,
   "id": "174e3af3",
   "metadata": {},
   "outputs": [
    {
     "name": "stdout",
     "output_type": "stream",
     "text": [
      "Help on function conversor_temp in module __main__:\n",
      "\n",
      "conversor_temp(cf)\n",
      "    Converte temperatura farenheit em celsius\n",
      "\n",
      "36.99999999999999\n"
     ]
    }
   ],
   "source": [
    "help(conversor_temp) # imprime as informações da função\n",
    "print(conversor_temp(98.6)) # Imprime o valor da função "
   ]
  },
  {
   "cell_type": "markdown",
   "id": "f139cf0e",
   "metadata": {},
   "source": [
    "# Exercicios "
   ]
  },
  {
   "cell_type": "markdown",
   "id": "ab52cb6b",
   "metadata": {},
   "source": [
    "1.Implemente um programa que leia três números inteiros denotando os lados de um triangulo. Três números formam um triângulo se\n",
    "cada um deles for menor do que a soma dos outros dois. O programa deve informar se eles formam um triângulo e em caso positivo,\n",
    "qual é o triângulo formado (equilátero, isósceles ou escaleno).\n"
   ]
  },
  {
   "cell_type": "code",
   "execution_count": 7,
   "id": "c37e7d4f",
   "metadata": {
    "scrolled": true
   },
   "outputs": [
    {
     "name": "stdout",
     "output_type": "stream",
     "text": [
      "Digite o valor de a: 3\n",
      "Digite o valor de b: 3\n",
      "Digite o valor de c: 3\n",
      "É um triangulo equilatero\n"
     ]
    }
   ],
   "source": [
    "a = int(input('Digite o valor de a: '))\n",
    "b = int(input('Digite o valor de b: '))\n",
    "c = int(input('Digite o valor de c: '))\n",
    "\n",
    "if a > b + c or b > a + c or c > a + b:\n",
    "    print('Não é um triangulo')\n",
    "elif a == b == c:\n",
    "    print('É um triangulo equilatero')\n",
    "elif a == b != c or a != b == c or a == c != b:\n",
    "    print('É um triangulo isósceles')\n",
    "elif a != b !=c:\n",
    "    print('É um triangulo escaleno')"
   ]
  },
  {
   "cell_type": "markdown",
   "id": "1bcb3c5f",
   "metadata": {},
   "source": [
    "2. Implemente um programa que leia do usuário um total N de números reais e imprima na tela qual foi o maior número digitado."
   ]
  },
  {
   "cell_type": "code",
   "execution_count": 15,
   "id": "a6a42f7a",
   "metadata": {},
   "outputs": [
    {
     "name": "stdout",
     "output_type": "stream",
     "text": [
      "Digite a quantidade de repetições5\n",
      "Digite um numero: 5\n",
      "5\n",
      "5\n",
      "Digite um numero: 10\n",
      "10\n",
      "5\n",
      "Digite um numero: 3\n",
      "10\n",
      "3\n",
      "Digite um numero: 1\n",
      "10\n",
      "1\n",
      "Digite um numero: 90\n",
      "90\n",
      "1\n",
      "O maior numero digitado foi 90\n",
      "O menor numero digitado foi 1\n",
      "A quantidade de numeros digitados foi 5\n"
     ]
    }
   ],
   "source": [
    "n = int(input('Digite a quantidade de repetições'))\n",
    "maior = menor = cont = 0\n",
    "\n",
    "for n in range(n, 0 , -1):\n",
    "    num = int(input('Digite um numero: '))\n",
    "    cont = cont + 1\n",
    "    \n",
    "    if cont == 1 :\n",
    "        maior = menor = num\n",
    "    else:\n",
    "        if num > maior:\n",
    "            maior = num\n",
    "        if num < menor: \n",
    "            menor = num\n",
    "    \n",
    "    print(maior)\n",
    "    print(menor)\n",
    "print(f'O maior numero digitado foi {maior}')\n",
    "print(f'O menor numero digitado foi {menor}')\n",
    "print(f'A quantidade de numeros digitados foi {cont}')"
   ]
  },
  {
   "cell_type": "markdown",
   "id": "0adf9264",
   "metadata": {},
   "source": [
    "3. Implemente um programa que leia do usuário um número N de números inteiros que fazem parte de uma sequência. O programa deve imprimir uma mensagem informando se a sequência é composta apenas de números 0s ou 1s, com a mensagem \"sequência no padrão\" ou com a mensagem \"sequência não está no padrão\", caso algum dos números digitados não seja 0 nem 1."
   ]
  },
  {
   "cell_type": "code",
   "execution_count": 14,
   "id": "e19924e9",
   "metadata": {},
   "outputs": [
    {
     "name": "stdout",
     "output_type": "stream",
     "text": [
      "Quantos numeros digitados? 3\n",
      "Digite um numero: 9\n",
      "9\n",
      "True\n",
      "Digite um numero: 1\n",
      "1\n",
      "Digite um numero: 0\n",
      "0\n",
      "Está forá do Padrão.\n"
     ]
    }
   ],
   "source": [
    "n = int(input('Quantos numeros digitados? '))\n",
    "resp = False\n",
    "\n",
    "for s in range(n, 0, -1):\n",
    "    num = int(input('Digite um numero: '))\n",
    "    print(num)\n",
    "    if num != 1 and num != 0:\n",
    "        resp = True\n",
    "        print(resp)\n",
    "\n",
    "\n",
    "if resp == True:\n",
    "    print('Está forá do Padrão.')\n",
    "elif resp == False: \n",
    "    print('Está no padrão')\n",
    "  "
   ]
  },
  {
   "cell_type": "markdown",
   "id": "34d67bfe",
   "metadata": {},
   "source": [
    "4. Implemente uma função que receba como parâmetro um número inteiro. A função deve calcular quantos dos dígitos dos números são pares. Implemente um programa que leia do usuário um número inteiro, realize uma chamada à função e imprima o resultado calculado."
   ]
  },
  {
   "cell_type": "code",
   "execution_count": 10,
   "id": "6707df0f",
   "metadata": {
    "scrolled": true
   },
   "outputs": [],
   "source": [
    "def quant_numero(ni):\n",
    "    '''Função para receber um numero inteiro\n",
    "        e descobrir a quantidade de numeros pares inseridos\n",
    "    '''\n",
    "    n = int(input('Qual o numero deseja testar? '))\n",
    "    cont = 0\n",
    "    for i in range(n, 0 , -1):\n",
    "        p = int(input('Digite um numer: '))\n",
    "        if p % 2 == 0:\n",
    "            cont = cont + 1\n",
    "            print(cont)\n",
    "    return (cont)"
   ]
  },
  {
   "cell_type": "code",
   "execution_count": 13,
   "id": "8e55ea57",
   "metadata": {},
   "outputs": [
    {
     "name": "stdout",
     "output_type": "stream",
     "text": [
      "Qual o numero deseja testar? 2\n",
      "Digite um numer: 3\n",
      "Digite um numer: 7\n",
      "Existem 0 numeros pares!\n"
     ]
    }
   ],
   "source": [
    "print(f'Existem {quant_numero(5)} numeros pares!')"
   ]
  },
  {
   "cell_type": "markdown",
   "id": "232ef6ca",
   "metadata": {},
   "source": []
  }
 ],
 "metadata": {
  "kernelspec": {
   "display_name": "Python 3",
   "language": "python",
   "name": "python3"
  },
  "language_info": {
   "codemirror_mode": {
    "name": "ipython",
    "version": 3
   },
   "file_extension": ".py",
   "mimetype": "text/x-python",
   "name": "python",
   "nbconvert_exporter": "python",
   "pygments_lexer": "ipython3",
   "version": "3.8.8"
  }
 },
 "nbformat": 4,
 "nbformat_minor": 5
}
