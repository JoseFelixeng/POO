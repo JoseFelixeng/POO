{
 "cells": [
  {
   "cell_type": "markdown",
   "id": "cfd95632",
   "metadata": {},
   "source": [
    "# Prática 1.1\n"
   ]
  },
  {
   "cell_type": "markdown",
   "id": "8c4d6414",
   "metadata": {},
   "source": [
    "1.Implemente um programa que leia três números inteiros denotando os lados de um triangulo. Três números formam um triângulo se cada um deles for menor do que a soma dos outros dois. O programa deve informar se eles formam um triângulo e em caso positivo, qual é o triângulo formado (equilátero, isósceles ou escaleno).\n"
   ]
  },
  {
   "cell_type": "code",
   "execution_count": null,
   "id": "cefee1b4",
   "metadata": {},
   "outputs": [],
   "source": [
    "a = int(input('Digite o valor de a: '))\n",
    "b = int(input('Digite o valor de b: '))\n",
    "c = int(input('Digite o valor de c: '))\n",
    "\n",
    "if a > b + c or b > a + c or c > a + b:\n",
    "    print('Não é um triangulo')\n",
    "elif a == b == c:\n",
    "    print('É um triangulo equilatero')\n",
    "elif a == b != c or a != b == c or a == c != b:\n",
    "    print('É um triangulo isósceles')\n",
    "elif a != b !=c:\n",
    "    print('É um triangulo escaleno')"
   ]
  },
  {
   "cell_type": "markdown",
   "id": "40ca8be5",
   "metadata": {},
   "source": [
    "2. Implemente um programa que leia do usuário um total N de números reais e imprima na tela qual foi o maior número digitado."
   ]
  },
  {
   "cell_type": "code",
   "execution_count": null,
   "id": "b260a91b",
   "metadata": {},
   "outputs": [],
   "source": [
    "n = int(input('Digite a quantidade de repetições'))\n",
    "maior = menor = cont = 0\n",
    "\n",
    "for n in range(n, 0 , -1):\n",
    "    num = int(input('Digite um numero: '))\n",
    "    cont = cont + 1\n",
    "    \n",
    "    if cont == 1 :\n",
    "        maior = menor = num\n",
    "    else:\n",
    "        if num > maior:\n",
    "            maior = num\n",
    "        if num < menor: \n",
    "            menor = num\n",
    "    \n",
    "print(f'O maior numero digitado foi {maior}')\n"
   ]
  },
  {
   "cell_type": "markdown",
   "id": "18d7e5fb",
   "metadata": {},
   "source": [
    "3.Implemente um programa que leia do usuário um número N de números inteiros que fazem parte de uma sequência. O programa deve imprimir uma mensagem informando se a sequência é composta apenas de números 0s ou 1s, com a mensagem \"sequência no padrão\" ou com a mensagem \"sequência não está no padrão\", caso algum dos números digitados não seja 0 nem 1."
   ]
  },
  {
   "cell_type": "code",
   "execution_count": 1,
   "id": "282682da",
   "metadata": {},
   "outputs": [
    {
     "name": "stdin",
     "output_type": "stream",
     "text": [
      "Quantos numeros digitados?  5\n",
      "Digite um numero:  1\n"
     ]
    },
    {
     "name": "stdout",
     "output_type": "stream",
     "text": [
      "1\n"
     ]
    },
    {
     "name": "stdin",
     "output_type": "stream",
     "text": [
      "Digite um numero:  2\n"
     ]
    },
    {
     "name": "stdout",
     "output_type": "stream",
     "text": [
      "2\n",
      "True\n"
     ]
    },
    {
     "name": "stdin",
     "output_type": "stream",
     "text": [
      "Digite um numero:  3\n"
     ]
    },
    {
     "name": "stdout",
     "output_type": "stream",
     "text": [
      "3\n",
      "True\n"
     ]
    },
    {
     "name": "stdin",
     "output_type": "stream",
     "text": [
      "Digite um numero:  4\n"
     ]
    },
    {
     "name": "stdout",
     "output_type": "stream",
     "text": [
      "4\n",
      "True\n"
     ]
    },
    {
     "name": "stdin",
     "output_type": "stream",
     "text": [
      "Digite um numero:  5\n"
     ]
    },
    {
     "name": "stdout",
     "output_type": "stream",
     "text": [
      "5\n",
      "True\n",
      "Está forá do Padrão.\n"
     ]
    }
   ],
   "source": [
    "n = int(input('Quantos numeros digitados? '))\n",
    "resp = False\n",
    "\n",
    "for s in range(n, 0, -1):\n",
    "    num = int(input('Digite um numero: '))\n",
    "    print(num)\n",
    "    if num != 1 and num != 0:\n",
    "        resp = True\n",
    "        print(resp)\n",
    "\n",
    "\n",
    "if resp == True:\n",
    "    print('Está forá do Padrão.')\n",
    "elif resp == False: \n",
    "    print('Está no padrão')"
   ]
  },
  {
   "cell_type": "markdown",
   "id": "eca968c1",
   "metadata": {},
   "source": [
    "4.Implemente uma função que receba como parâmetro um número inteiro. A função deve calcular quantos dos dígitos dos números são pares. Implemente um programa que leia do usuário um número inteiro, realize uma chamada à função e imprima o resultado calculado."
   ]
  },
  {
   "cell_type": "code",
   "execution_count": null,
   "id": "28069cfe",
   "metadata": {},
   "outputs": [],
   "source": [
    "def quant_numero(ni):\n",
    "    '''Função para receber um numero inteiro\n",
    "        e descobrir a quantidade de numeros pares inseridos\n",
    "    '''\n",
    "    n = int(input('Qual o numero deseja testar? '))\n",
    "    cont = 0\n",
    "    for i in range(n, 0 , -1):\n",
    "        p = int(input('Digite um numer: '))\n",
    "        if p % 2 == 0:\n",
    "            cont = cont + 1\n",
    "            print(cont)\n",
    "    return (cont)"
   ]
  },
  {
   "cell_type": "code",
   "execution_count": null,
   "id": "15969c82",
   "metadata": {},
   "outputs": [],
   "source": [
    "print(f'Existem {quant_numero(5)} numeros pares!')"
   ]
  },
  {
   "cell_type": "code",
   "execution_count": 2,
   "id": "3afd4be4-6c3f-4f8f-8c7d-5270d21e2a4c",
   "metadata": {},
   "outputs": [
    {
     "name": "stdin",
     "output_type": "stream",
     "text": [
      "Digite a entrada 5\n",
      "digite um número: 1\n",
      "digite um número: 0\n",
      "digite um número: 1\n",
      "digite um número: 0\n",
      "digite um número: 0\n"
     ]
    },
    {
     "name": "stdout",
     "output_type": "stream",
     "text": [
      "sequência não esta no padrão\n"
     ]
    }
   ],
   "source": [
    "# Implemente um programa que leia do usuário um número N de números inteiros que fazem\n",
    "# parte de uma sequência. O programa deve imprimir uma mensagem informando se a sequência\n",
    "# é composta apenas de números 0s ou 1s, com a mensagem \"sequência no padrão\" ou com a\n",
    "# ensagem \"sequência não está no padrão\", caso algum dos números digitados não seja 0 nem 1\n",
    "\n",
    "n = int(input('Digite a entrada'))\n",
    "\n",
    "def test_seq(n: int) -> int:\n",
    "    seq = 0\n",
    "    cont = 0\n",
    "    for i in range(0, n):\n",
    "        seq = int(input('digite um número:'))\n",
    "\n",
    "        if seq !=0 and seq !=1:\n",
    "            cont = cont + 1\n",
    "\n",
    "\n",
    "    return cont\n",
    "\n",
    "num = test_seq(n)\n",
    "\n",
    "if num == 0:\n",
    "    print('sequência no padrão')\n",
    "elif num > 0:\n",
    "    print('sequência não esta no padrão')"
   ]
  },
  {
   "cell_type": "code",
   "execution_count": null,
   "id": "7c35adf2-0906-4540-bf5c-9da13c1413a9",
   "metadata": {},
   "outputs": [],
   "source": []
  }
 ],
 "metadata": {
  "kernelspec": {
   "display_name": "Python 3 (ipykernel)",
   "language": "python",
   "name": "python3"
  },
  "language_info": {
   "codemirror_mode": {
    "name": "ipython",
    "version": 3
   },
   "file_extension": ".py",
   "mimetype": "text/x-python",
   "name": "python",
   "nbconvert_exporter": "python",
   "pygments_lexer": "ipython3",
   "version": "3.12.7"
  }
 },
 "nbformat": 4,
 "nbformat_minor": 5
}
