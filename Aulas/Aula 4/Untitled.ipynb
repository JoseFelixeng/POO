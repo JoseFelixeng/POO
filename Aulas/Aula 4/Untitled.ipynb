{
 "cells": [
  {
   "cell_type": "code",
   "execution_count": 1,
   "id": "cf9c546f",
   "metadata": {},
   "outputs": [],
   "source": [
    "class Pessoa:\n",
    "    '''Representa uma pessoa a ser vacinada.'''\n",
    "\n",
    "    def __init__(self, nome, idade):\n",
    "        '''Inicializa uma pessoa com o seu nome e idade.'''\n",
    "        self.__nome = nome\n",
    "        self.__idade = idade\n",
    "        self.__doses_vac = 0\n",
    "        self.__tipo_vac = ''\n",
    "\n",
    "    def __str__(self):\n",
    "        if self.__doses_vac == 0:\n",
    "            return (f'{self.__nome}, {self.__idade} anos ({self.__doses_vac} doses)')\n",
    "        else:\n",
    "            return (f'{self.__nome}, {self.__idade} anos ({self.__doses_vac} doses tipo {self.__tipo_vac})')\n",
    "\n",
    "    @property\n",
    "    def nome(self):\n",
    "        return self.__nome\n",
    "    \n",
    "    @nome.setter\n",
    "    def nome(self, n):\n",
    "        self.__nome = n\n",
    "\n",
    "    @property\n",
    "    def idade(self):\n",
    "        return self.__idade\n",
    "\n",
    "    @idade.setter\n",
    "    def idade(self, i):\n",
    "        self.__idade = i\n",
    "\n",
    "    @property\n",
    "    def doses_vac(self):\n",
    "        return self.__doses_vac\n",
    "    \n",
    "    @property\n",
    "    def tipo_vac(self):\n",
    "        return self.__tipo_vac\n",
    "\n",
    "    def toma_vacina(self, vac):\n",
    "        '''Aplica uma vacina na pessoa.'''\n",
    "        if self.__doses_vac == 0:\n",
    "            self.__doses_vac += 1\n",
    "            self.__tipo_vac = vac\n",
    "            print(f'>Debug: aplicando vacina tipo {vac} em {self.__nome}')\n",
    "        elif self.__tipo_vac == vac:\n",
    "            self.__doses_vac += 1\n",
    "            print(f'>Debug: aplicando vacina do mesmo tipo em {self.__nome}')\n",
    "        else:\n",
    "            print(f'>Debug: {self.__nome} tem uma dose do tipo {self.__tipo_vac} e por isso não pode tomar {vac}')\n",
    "            print('Paciente já vacinado com outro tipo de vacina')\n"
   ]
  },
  {
   "cell_type": "code",
   "execution_count": 2,
   "id": "32c3ce7a",
   "metadata": {},
   "outputs": [
    {
     "name": "stdout",
     "output_type": "stream",
     "text": [
      "Inicialização:\n",
      "mario, 33 anos (0 doses)\n",
      "roberta, 21 anos (0 doses)\n",
      "vilma, 57 anos (0 doses)\n",
      "\n",
      "Vacinação:\n",
      ">Debug: aplicando vacina tipo C em mario\n",
      ">Debug: aplicando vacina do mesmo tipo em mario\n",
      "mario, 33 anos (2 doses tipo C)\n",
      ">Debug: aplicando vacina tipo A em vilma\n",
      ">Debug: vilma tem uma dose do tipo A e por isso não pode tomar C\n",
      "Paciente já vacinado com outro tipo de vacina\n",
      "vilma, 57 anos (1 doses tipo A)\n",
      ">Debug: aplicando vacina tipo B em francisca\n",
      ">Debug: aplicando vacina do mesmo tipo em francisca\n",
      "francisca, 48 anos (2 doses tipo B)\n"
     ]
    }
   ],
   "source": [
    "if __name__ == \"__main__\":\n",
    "    print('Inicialização:')\n",
    "    p1 = Pessoa('mario', 33)\n",
    "    p2 = Pessoa('roberta', 21)\n",
    "    p3 = Pessoa('vilma', 57)\n",
    "    print(p1)\n",
    "    print(p2)\n",
    "    print(p3)\n",
    "\n",
    "    print('\\nVacinação:')\n",
    "    p1.toma_vacina('C')\n",
    "    p1.toma_vacina('C')\n",
    "    print(p1)\n",
    "\n",
    "    p3.toma_vacina('A')\n",
    "    p3.toma_vacina('C')\n",
    "    print(p3)\n",
    "    \n",
    "    p2.nome = 'francisca'\n",
    "    p2.idade = 48\n",
    "    p2.toma_vacina('B')\n",
    "    p2.toma_vacina('B')\n",
    "    print(p2)"
   ]
  },
  {
   "cell_type": "code",
   "execution_count": null,
   "id": "d76610c1",
   "metadata": {},
   "outputs": [],
   "source": []
  }
 ],
 "metadata": {
  "kernelspec": {
   "display_name": "Python 3",
   "language": "python",
   "name": "python3"
  },
  "language_info": {
   "codemirror_mode": {
    "name": "ipython",
    "version": 3
   },
   "file_extension": ".py",
   "mimetype": "text/x-python",
   "name": "python",
   "nbconvert_exporter": "python",
   "pygments_lexer": "ipython3",
   "version": "3.8.8"
  }
 },
 "nbformat": 4,
 "nbformat_minor": 5
}
