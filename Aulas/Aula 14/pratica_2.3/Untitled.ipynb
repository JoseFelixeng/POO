{
 "cells": [
  {
   "cell_type": "code",
   "execution_count": null,
   "id": "6256bdc0",
   "metadata": {},
   "outputs": [],
   "source": [
    "#Fazendo a minha versão da Resposta\n",
    "import math\n",
    "\n",
    "\n"
   ]
  },
  {
   "cell_type": "code",
   "execution_count": null,
   "id": "713f740e",
   "metadata": {},
   "outputs": [],
   "source": [
    "if __name__ == \"__main__\":\n",
    "    a = Matriz(3, 3)\n",
    "    a[0, 2] = 1\n",
    "    a[1, 1] = 1\n",
    "    a[2, 0] = 1\n",
    "    print('Matriz a:')\n",
    "    print(a)\n",
    "\n",
    "    b = Matriz(3, 3)\n",
    "    b.seta_valores([[1.0, 2.0, 0.0],\n",
    "                    [2.0, 4.0, 5.0],\n",
    "                    [3.0, 3.0, 0.0]])\n",
    "\n",
    "    mat_soma = a + b\n",
    "    print('A + B:')\n",
    "    print(mat_soma)\n",
    "\n",
    "    mat_prod = a * b\n",
    "    print('A * B:')\n",
    "    print(mat_prod)\n",
    "\n",
    "    mat_prod = b * 5\n",
    "    print('B * escalar:')\n",
    "    print(mat_prod)\n",
    "\n",
    "    print(f'A != B: {a!=b}')\n",
    "    b.seta_valores([[0, 0, 1],\n",
    "                    [0, 1, 0],\n",
    "                    [1, 0, 0]])\n",
    "    print(f'A == B: {a==b}')\n"
   ]
  }
 ],
 "metadata": {
  "kernelspec": {
   "display_name": "Python 3",
   "language": "python",
   "name": "python3"
  },
  "language_info": {
   "codemirror_mode": {
    "name": "ipython",
    "version": 3
   },
   "file_extension": ".py",
   "mimetype": "text/x-python",
   "name": "python",
   "nbconvert_exporter": "python",
   "pygments_lexer": "ipython3",
   "version": "3.8.8"
  }
 },
 "nbformat": 4,
 "nbformat_minor": 5
}
